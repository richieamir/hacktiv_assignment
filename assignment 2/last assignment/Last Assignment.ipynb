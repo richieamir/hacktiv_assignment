{
 "cells": [
  {
   "cell_type": "markdown",
   "metadata": {},
   "source": [
    "### Import library"
   ]
  },
  {
   "cell_type": "code",
   "execution_count": 55,
   "metadata": {},
   "outputs": [],
   "source": [
    "import pandas as pd\n",
    "import numpy as np\n",
    "import matplotlib.pyplot as plt\n",
    "from sklearn.model_selection import train_test_split\n",
    "from sklearn.neighbors import KNeighborsClassifier\n",
    "from sklearn import metrics\n",
    "from sklearn.linear_model import LogisticRegression\n",
    "from sklearn import svm\n",
    "from sklearn.naive_bayes import GaussianNB\n",
    "from sklearn import tree"
   ]
  },
  {
   "cell_type": "code",
   "execution_count": 2,
   "metadata": {},
   "outputs": [
    {
     "data": {
      "text/html": [
       "<div>\n",
       "<style scoped>\n",
       "    .dataframe tbody tr th:only-of-type {\n",
       "        vertical-align: middle;\n",
       "    }\n",
       "\n",
       "    .dataframe tbody tr th {\n",
       "        vertical-align: top;\n",
       "    }\n",
       "\n",
       "    .dataframe thead th {\n",
       "        text-align: right;\n",
       "    }\n",
       "</style>\n",
       "<table border=\"1\" class=\"dataframe\">\n",
       "  <thead>\n",
       "    <tr style=\"text-align: right;\">\n",
       "      <th></th>\n",
       "      <th>age</th>\n",
       "      <th>job</th>\n",
       "      <th>marital</th>\n",
       "      <th>education</th>\n",
       "      <th>default</th>\n",
       "      <th>balance</th>\n",
       "      <th>housing</th>\n",
       "      <th>loan</th>\n",
       "      <th>contact</th>\n",
       "      <th>day</th>\n",
       "      <th>month</th>\n",
       "      <th>duration</th>\n",
       "      <th>campaign</th>\n",
       "      <th>pdays</th>\n",
       "      <th>previous</th>\n",
       "      <th>poutcome</th>\n",
       "      <th>y</th>\n",
       "    </tr>\n",
       "  </thead>\n",
       "  <tbody>\n",
       "    <tr>\n",
       "      <th>0</th>\n",
       "      <td>30</td>\n",
       "      <td>unemployed</td>\n",
       "      <td>married</td>\n",
       "      <td>primary</td>\n",
       "      <td>no</td>\n",
       "      <td>1787</td>\n",
       "      <td>no</td>\n",
       "      <td>no</td>\n",
       "      <td>cellular</td>\n",
       "      <td>19</td>\n",
       "      <td>oct</td>\n",
       "      <td>79</td>\n",
       "      <td>1</td>\n",
       "      <td>-1</td>\n",
       "      <td>0</td>\n",
       "      <td>unknown</td>\n",
       "      <td>no</td>\n",
       "    </tr>\n",
       "    <tr>\n",
       "      <th>1</th>\n",
       "      <td>33</td>\n",
       "      <td>services</td>\n",
       "      <td>married</td>\n",
       "      <td>secondary</td>\n",
       "      <td>no</td>\n",
       "      <td>4789</td>\n",
       "      <td>yes</td>\n",
       "      <td>yes</td>\n",
       "      <td>cellular</td>\n",
       "      <td>11</td>\n",
       "      <td>may</td>\n",
       "      <td>220</td>\n",
       "      <td>1</td>\n",
       "      <td>339</td>\n",
       "      <td>4</td>\n",
       "      <td>failure</td>\n",
       "      <td>no</td>\n",
       "    </tr>\n",
       "    <tr>\n",
       "      <th>2</th>\n",
       "      <td>35</td>\n",
       "      <td>management</td>\n",
       "      <td>single</td>\n",
       "      <td>tertiary</td>\n",
       "      <td>no</td>\n",
       "      <td>1350</td>\n",
       "      <td>yes</td>\n",
       "      <td>no</td>\n",
       "      <td>cellular</td>\n",
       "      <td>16</td>\n",
       "      <td>apr</td>\n",
       "      <td>185</td>\n",
       "      <td>1</td>\n",
       "      <td>330</td>\n",
       "      <td>1</td>\n",
       "      <td>failure</td>\n",
       "      <td>no</td>\n",
       "    </tr>\n",
       "    <tr>\n",
       "      <th>3</th>\n",
       "      <td>30</td>\n",
       "      <td>management</td>\n",
       "      <td>married</td>\n",
       "      <td>tertiary</td>\n",
       "      <td>no</td>\n",
       "      <td>1476</td>\n",
       "      <td>yes</td>\n",
       "      <td>yes</td>\n",
       "      <td>unknown</td>\n",
       "      <td>3</td>\n",
       "      <td>jun</td>\n",
       "      <td>199</td>\n",
       "      <td>4</td>\n",
       "      <td>-1</td>\n",
       "      <td>0</td>\n",
       "      <td>unknown</td>\n",
       "      <td>no</td>\n",
       "    </tr>\n",
       "    <tr>\n",
       "      <th>4</th>\n",
       "      <td>59</td>\n",
       "      <td>blue-collar</td>\n",
       "      <td>married</td>\n",
       "      <td>secondary</td>\n",
       "      <td>no</td>\n",
       "      <td>0</td>\n",
       "      <td>yes</td>\n",
       "      <td>no</td>\n",
       "      <td>unknown</td>\n",
       "      <td>5</td>\n",
       "      <td>may</td>\n",
       "      <td>226</td>\n",
       "      <td>1</td>\n",
       "      <td>-1</td>\n",
       "      <td>0</td>\n",
       "      <td>unknown</td>\n",
       "      <td>no</td>\n",
       "    </tr>\n",
       "  </tbody>\n",
       "</table>\n",
       "</div>"
      ],
      "text/plain": [
       "   age          job  marital  education default  balance housing loan  \\\n",
       "0   30   unemployed  married    primary      no     1787      no   no   \n",
       "1   33     services  married  secondary      no     4789     yes  yes   \n",
       "2   35   management   single   tertiary      no     1350     yes   no   \n",
       "3   30   management  married   tertiary      no     1476     yes  yes   \n",
       "4   59  blue-collar  married  secondary      no        0     yes   no   \n",
       "\n",
       "    contact  day month  duration  campaign  pdays  previous poutcome   y  \n",
       "0  cellular   19   oct        79         1     -1         0  unknown  no  \n",
       "1  cellular   11   may       220         1    339         4  failure  no  \n",
       "2  cellular   16   apr       185         1    330         1  failure  no  \n",
       "3   unknown    3   jun       199         4     -1         0  unknown  no  \n",
       "4   unknown    5   may       226         1     -1         0  unknown  no  "
      ]
     },
     "execution_count": 2,
     "metadata": {},
     "output_type": "execute_result"
    }
   ],
   "source": [
    "df = pd.read_csv('bank.csv',sep=';')\n",
    "df.head()"
   ]
  },
  {
   "cell_type": "code",
   "execution_count": 3,
   "metadata": {},
   "outputs": [
    {
     "data": {
      "text/plain": [
       "(4521, 17)"
      ]
     },
     "execution_count": 3,
     "metadata": {},
     "output_type": "execute_result"
    }
   ],
   "source": [
    "df.shape"
   ]
  },
  {
   "cell_type": "code",
   "execution_count": 4,
   "metadata": {},
   "outputs": [
    {
     "name": "stdout",
     "output_type": "stream",
     "text": [
      "<class 'pandas.core.frame.DataFrame'>\n",
      "RangeIndex: 4521 entries, 0 to 4520\n",
      "Data columns (total 17 columns):\n",
      " #   Column     Non-Null Count  Dtype \n",
      "---  ------     --------------  ----- \n",
      " 0   age        4521 non-null   int64 \n",
      " 1   job        4521 non-null   object\n",
      " 2   marital    4521 non-null   object\n",
      " 3   education  4521 non-null   object\n",
      " 4   default    4521 non-null   object\n",
      " 5   balance    4521 non-null   int64 \n",
      " 6   housing    4521 non-null   object\n",
      " 7   loan       4521 non-null   object\n",
      " 8   contact    4521 non-null   object\n",
      " 9   day        4521 non-null   int64 \n",
      " 10  month      4521 non-null   object\n",
      " 11  duration   4521 non-null   int64 \n",
      " 12  campaign   4521 non-null   int64 \n",
      " 13  pdays      4521 non-null   int64 \n",
      " 14  previous   4521 non-null   int64 \n",
      " 15  poutcome   4521 non-null   object\n",
      " 16  y          4521 non-null   object\n",
      "dtypes: int64(7), object(10)\n",
      "memory usage: 600.6+ KB\n"
     ]
    }
   ],
   "source": [
    "df.info()"
   ]
  },
  {
   "cell_type": "markdown",
   "metadata": {},
   "source": [
    "# EDA"
   ]
  },
  {
   "cell_type": "markdown",
   "metadata": {},
   "source": [
    "### A. Transform job become employee and unemployee, 1 stands for employee and 0 stands for unemployee "
   ]
  },
  {
   "cell_type": "code",
   "execution_count": 5,
   "metadata": {},
   "outputs": [
    {
     "data": {
      "text/plain": [
       "array(['unemployed', 'services', 'management', 'blue-collar',\n",
       "       'self-employed', 'technician', 'entrepreneur', 'admin.', 'student',\n",
       "       'housemaid', 'retired', 'unknown'], dtype=object)"
      ]
     },
     "execution_count": 5,
     "metadata": {},
     "output_type": "execute_result"
    }
   ],
   "source": [
    "df['job'].unique()"
   ]
  },
  {
   "cell_type": "markdown",
   "metadata": {},
   "source": [
    "#### 1. Check how many unknown status"
   ]
  },
  {
   "cell_type": "code",
   "execution_count": 6,
   "metadata": {},
   "outputs": [
    {
     "data": {
      "text/plain": [
       "(38, 17)"
      ]
     },
     "execution_count": 6,
     "metadata": {},
     "output_type": "execute_result"
    }
   ],
   "source": [
    "df[df['job'] == 'unknown'].shape"
   ]
  },
  {
   "cell_type": "markdown",
   "metadata": {},
   "source": [
    "#### There is only 38 for total 4521, so I will drop because is only 0,8% of data. The reason of dropping is job is essential feature to determine Marketing campaign"
   ]
  },
  {
   "cell_type": "code",
   "execution_count": 7,
   "metadata": {},
   "outputs": [],
   "source": [
    "df = df[df['job'] != 'unknown']"
   ]
  },
  {
   "cell_type": "markdown",
   "metadata": {},
   "source": [
    "##### Transform data"
   ]
  },
  {
   "cell_type": "code",
   "execution_count": 8,
   "metadata": {},
   "outputs": [
    {
     "name": "stderr",
     "output_type": "stream",
     "text": [
      "<ipython-input-8-e40b068200da>:2: SettingWithCopyWarning: \n",
      "A value is trying to be set on a copy of a slice from a DataFrame\n",
      "\n",
      "See the caveats in the documentation: https://pandas.pydata.org/pandas-docs/stable/user_guide/indexing.html#returning-a-view-versus-a-copy\n",
      "  df['job'][df['job'] == 'unemployed'] =0\n"
     ]
    }
   ],
   "source": [
    "df['job'][df['job'] != 'unemployed'] =1\n",
    "df['job'][df['job'] == 'unemployed'] =0"
   ]
  },
  {
   "cell_type": "code",
   "execution_count": 9,
   "metadata": {},
   "outputs": [],
   "source": [
    "df[\"job\"] = pd.to_numeric(df[\"job\"])"
   ]
  },
  {
   "cell_type": "code",
   "execution_count": 10,
   "metadata": {},
   "outputs": [
    {
     "name": "stdout",
     "output_type": "stream",
     "text": [
      "<class 'pandas.core.frame.DataFrame'>\n",
      "Int64Index: 4483 entries, 0 to 4520\n",
      "Data columns (total 17 columns):\n",
      " #   Column     Non-Null Count  Dtype \n",
      "---  ------     --------------  ----- \n",
      " 0   age        4483 non-null   int64 \n",
      " 1   job        4483 non-null   int64 \n",
      " 2   marital    4483 non-null   object\n",
      " 3   education  4483 non-null   object\n",
      " 4   default    4483 non-null   object\n",
      " 5   balance    4483 non-null   int64 \n",
      " 6   housing    4483 non-null   object\n",
      " 7   loan       4483 non-null   object\n",
      " 8   contact    4483 non-null   object\n",
      " 9   day        4483 non-null   int64 \n",
      " 10  month      4483 non-null   object\n",
      " 11  duration   4483 non-null   int64 \n",
      " 12  campaign   4483 non-null   int64 \n",
      " 13  pdays      4483 non-null   int64 \n",
      " 14  previous   4483 non-null   int64 \n",
      " 15  poutcome   4483 non-null   object\n",
      " 16  y          4483 non-null   object\n",
      "dtypes: int64(8), object(9)\n",
      "memory usage: 630.4+ KB\n"
     ]
    }
   ],
   "source": [
    "df.info()"
   ]
  },
  {
   "cell_type": "markdown",
   "metadata": {},
   "source": [
    "### B. Transform Marital status, 1 for Married and 0 for single"
   ]
  },
  {
   "cell_type": "markdown",
   "metadata": {},
   "source": [
    "#### 1. Check how many status does marrital status has."
   ]
  },
  {
   "cell_type": "code",
   "execution_count": 11,
   "metadata": {},
   "outputs": [
    {
     "data": {
      "text/plain": [
       "array(['married', 'single', 'divorced'], dtype=object)"
      ]
     },
     "execution_count": 11,
     "metadata": {},
     "output_type": "execute_result"
    }
   ],
   "source": [
    "df['marital'].unique()"
   ]
  },
  {
   "cell_type": "markdown",
   "metadata": {},
   "source": [
    "#### 2. Transform"
   ]
  },
  {
   "cell_type": "code",
   "execution_count": 12,
   "metadata": {},
   "outputs": [
    {
     "name": "stderr",
     "output_type": "stream",
     "text": [
      "<ipython-input-12-c6e7be1a12ff>:1: SettingWithCopyWarning: \n",
      "A value is trying to be set on a copy of a slice from a DataFrame\n",
      "\n",
      "See the caveats in the documentation: https://pandas.pydata.org/pandas-docs/stable/user_guide/indexing.html#returning-a-view-versus-a-copy\n",
      "  df['marital'][df['marital'] == 'married'] = 1\n",
      "<ipython-input-12-c6e7be1a12ff>:2: SettingWithCopyWarning: \n",
      "A value is trying to be set on a copy of a slice from a DataFrame\n",
      "\n",
      "See the caveats in the documentation: https://pandas.pydata.org/pandas-docs/stable/user_guide/indexing.html#returning-a-view-versus-a-copy\n",
      "  df['marital'][df['marital'] != 'married'] = 0\n"
     ]
    }
   ],
   "source": [
    "df['marital'][df['marital'] == 'married'] = 1\n",
    "df['marital'][df['marital'] != 'married'] = 0\n",
    "df['marital'] = pd.to_numeric(df['marital'])"
   ]
  },
  {
   "cell_type": "code",
   "execution_count": 13,
   "metadata": {},
   "outputs": [
    {
     "name": "stdout",
     "output_type": "stream",
     "text": [
      "<class 'pandas.core.frame.DataFrame'>\n",
      "Int64Index: 4483 entries, 0 to 4520\n",
      "Data columns (total 17 columns):\n",
      " #   Column     Non-Null Count  Dtype \n",
      "---  ------     --------------  ----- \n",
      " 0   age        4483 non-null   int64 \n",
      " 1   job        4483 non-null   int64 \n",
      " 2   marital    4483 non-null   int64 \n",
      " 3   education  4483 non-null   object\n",
      " 4   default    4483 non-null   object\n",
      " 5   balance    4483 non-null   int64 \n",
      " 6   housing    4483 non-null   object\n",
      " 7   loan       4483 non-null   object\n",
      " 8   contact    4483 non-null   object\n",
      " 9   day        4483 non-null   int64 \n",
      " 10  month      4483 non-null   object\n",
      " 11  duration   4483 non-null   int64 \n",
      " 12  campaign   4483 non-null   int64 \n",
      " 13  pdays      4483 non-null   int64 \n",
      " 14  previous   4483 non-null   int64 \n",
      " 15  poutcome   4483 non-null   object\n",
      " 16  y          4483 non-null   object\n",
      "dtypes: int64(9), object(8)\n",
      "memory usage: 630.4+ KB\n"
     ]
    }
   ],
   "source": [
    "df.info()"
   ]
  },
  {
   "cell_type": "markdown",
   "metadata": {},
   "source": [
    "### C. Transform Education status to numeric"
   ]
  },
  {
   "cell_type": "markdown",
   "metadata": {},
   "source": [
    "#### 1. Check how many status does education has"
   ]
  },
  {
   "cell_type": "code",
   "execution_count": 14,
   "metadata": {},
   "outputs": [
    {
     "data": {
      "text/plain": [
       "array(['primary', 'secondary', 'tertiary', 'unknown'], dtype=object)"
      ]
     },
     "execution_count": 14,
     "metadata": {},
     "output_type": "execute_result"
    }
   ],
   "source": [
    "df['education'].unique()"
   ]
  },
  {
   "cell_type": "markdown",
   "metadata": {},
   "source": [
    "#### 2. Since education has unknown status, lets see how many of them that consist unknown"
   ]
  },
  {
   "cell_type": "code",
   "execution_count": 15,
   "metadata": {},
   "outputs": [
    {
     "data": {
      "text/html": [
       "<div>\n",
       "<style scoped>\n",
       "    .dataframe tbody tr th:only-of-type {\n",
       "        vertical-align: middle;\n",
       "    }\n",
       "\n",
       "    .dataframe tbody tr th {\n",
       "        vertical-align: top;\n",
       "    }\n",
       "\n",
       "    .dataframe thead th {\n",
       "        text-align: right;\n",
       "    }\n",
       "</style>\n",
       "<table border=\"1\" class=\"dataframe\">\n",
       "  <thead>\n",
       "    <tr style=\"text-align: right;\">\n",
       "      <th></th>\n",
       "      <th>age</th>\n",
       "      <th>job</th>\n",
       "      <th>marital</th>\n",
       "      <th>education</th>\n",
       "      <th>default</th>\n",
       "      <th>balance</th>\n",
       "      <th>housing</th>\n",
       "      <th>loan</th>\n",
       "      <th>contact</th>\n",
       "      <th>day</th>\n",
       "      <th>month</th>\n",
       "      <th>duration</th>\n",
       "      <th>campaign</th>\n",
       "      <th>pdays</th>\n",
       "      <th>previous</th>\n",
       "      <th>poutcome</th>\n",
       "      <th>y</th>\n",
       "    </tr>\n",
       "  </thead>\n",
       "  <tbody>\n",
       "    <tr>\n",
       "      <th>20</th>\n",
       "      <td>38</td>\n",
       "      <td>1</td>\n",
       "      <td>0</td>\n",
       "      <td>unknown</td>\n",
       "      <td>no</td>\n",
       "      <td>0</td>\n",
       "      <td>yes</td>\n",
       "      <td>no</td>\n",
       "      <td>cellular</td>\n",
       "      <td>18</td>\n",
       "      <td>nov</td>\n",
       "      <td>96</td>\n",
       "      <td>2</td>\n",
       "      <td>-1</td>\n",
       "      <td>0</td>\n",
       "      <td>unknown</td>\n",
       "      <td>no</td>\n",
       "    </tr>\n",
       "    <tr>\n",
       "      <th>27</th>\n",
       "      <td>67</td>\n",
       "      <td>1</td>\n",
       "      <td>0</td>\n",
       "      <td>unknown</td>\n",
       "      <td>no</td>\n",
       "      <td>696</td>\n",
       "      <td>no</td>\n",
       "      <td>no</td>\n",
       "      <td>telephone</td>\n",
       "      <td>17</td>\n",
       "      <td>aug</td>\n",
       "      <td>119</td>\n",
       "      <td>1</td>\n",
       "      <td>105</td>\n",
       "      <td>2</td>\n",
       "      <td>failure</td>\n",
       "      <td>no</td>\n",
       "    </tr>\n",
       "    <tr>\n",
       "      <th>49</th>\n",
       "      <td>61</td>\n",
       "      <td>1</td>\n",
       "      <td>0</td>\n",
       "      <td>unknown</td>\n",
       "      <td>no</td>\n",
       "      <td>4629</td>\n",
       "      <td>yes</td>\n",
       "      <td>no</td>\n",
       "      <td>cellular</td>\n",
       "      <td>27</td>\n",
       "      <td>jan</td>\n",
       "      <td>181</td>\n",
       "      <td>1</td>\n",
       "      <td>92</td>\n",
       "      <td>1</td>\n",
       "      <td>success</td>\n",
       "      <td>yes</td>\n",
       "    </tr>\n",
       "    <tr>\n",
       "      <th>132</th>\n",
       "      <td>43</td>\n",
       "      <td>1</td>\n",
       "      <td>0</td>\n",
       "      <td>unknown</td>\n",
       "      <td>yes</td>\n",
       "      <td>-715</td>\n",
       "      <td>yes</td>\n",
       "      <td>no</td>\n",
       "      <td>unknown</td>\n",
       "      <td>30</td>\n",
       "      <td>may</td>\n",
       "      <td>67</td>\n",
       "      <td>3</td>\n",
       "      <td>-1</td>\n",
       "      <td>0</td>\n",
       "      <td>unknown</td>\n",
       "      <td>no</td>\n",
       "    </tr>\n",
       "    <tr>\n",
       "      <th>133</th>\n",
       "      <td>48</td>\n",
       "      <td>1</td>\n",
       "      <td>0</td>\n",
       "      <td>unknown</td>\n",
       "      <td>no</td>\n",
       "      <td>0</td>\n",
       "      <td>yes</td>\n",
       "      <td>no</td>\n",
       "      <td>cellular</td>\n",
       "      <td>8</td>\n",
       "      <td>may</td>\n",
       "      <td>85</td>\n",
       "      <td>1</td>\n",
       "      <td>168</td>\n",
       "      <td>2</td>\n",
       "      <td>failure</td>\n",
       "      <td>no</td>\n",
       "    </tr>\n",
       "    <tr>\n",
       "      <th>...</th>\n",
       "      <td>...</td>\n",
       "      <td>...</td>\n",
       "      <td>...</td>\n",
       "      <td>...</td>\n",
       "      <td>...</td>\n",
       "      <td>...</td>\n",
       "      <td>...</td>\n",
       "      <td>...</td>\n",
       "      <td>...</td>\n",
       "      <td>...</td>\n",
       "      <td>...</td>\n",
       "      <td>...</td>\n",
       "      <td>...</td>\n",
       "      <td>...</td>\n",
       "      <td>...</td>\n",
       "      <td>...</td>\n",
       "      <td>...</td>\n",
       "    </tr>\n",
       "    <tr>\n",
       "      <th>4337</th>\n",
       "      <td>73</td>\n",
       "      <td>1</td>\n",
       "      <td>0</td>\n",
       "      <td>unknown</td>\n",
       "      <td>no</td>\n",
       "      <td>519</td>\n",
       "      <td>no</td>\n",
       "      <td>no</td>\n",
       "      <td>telephone</td>\n",
       "      <td>16</td>\n",
       "      <td>oct</td>\n",
       "      <td>434</td>\n",
       "      <td>1</td>\n",
       "      <td>57</td>\n",
       "      <td>1</td>\n",
       "      <td>failure</td>\n",
       "      <td>yes</td>\n",
       "    </tr>\n",
       "    <tr>\n",
       "      <th>4342</th>\n",
       "      <td>50</td>\n",
       "      <td>1</td>\n",
       "      <td>0</td>\n",
       "      <td>unknown</td>\n",
       "      <td>no</td>\n",
       "      <td>2284</td>\n",
       "      <td>yes</td>\n",
       "      <td>no</td>\n",
       "      <td>telephone</td>\n",
       "      <td>31</td>\n",
       "      <td>jul</td>\n",
       "      <td>1088</td>\n",
       "      <td>17</td>\n",
       "      <td>-1</td>\n",
       "      <td>0</td>\n",
       "      <td>unknown</td>\n",
       "      <td>yes</td>\n",
       "    </tr>\n",
       "    <tr>\n",
       "      <th>4428</th>\n",
       "      <td>48</td>\n",
       "      <td>1</td>\n",
       "      <td>0</td>\n",
       "      <td>unknown</td>\n",
       "      <td>no</td>\n",
       "      <td>439</td>\n",
       "      <td>yes</td>\n",
       "      <td>no</td>\n",
       "      <td>cellular</td>\n",
       "      <td>2</td>\n",
       "      <td>feb</td>\n",
       "      <td>212</td>\n",
       "      <td>1</td>\n",
       "      <td>249</td>\n",
       "      <td>2</td>\n",
       "      <td>other</td>\n",
       "      <td>no</td>\n",
       "    </tr>\n",
       "    <tr>\n",
       "      <th>4471</th>\n",
       "      <td>59</td>\n",
       "      <td>1</td>\n",
       "      <td>0</td>\n",
       "      <td>unknown</td>\n",
       "      <td>no</td>\n",
       "      <td>3534</td>\n",
       "      <td>no</td>\n",
       "      <td>no</td>\n",
       "      <td>cellular</td>\n",
       "      <td>21</td>\n",
       "      <td>nov</td>\n",
       "      <td>216</td>\n",
       "      <td>4</td>\n",
       "      <td>-1</td>\n",
       "      <td>0</td>\n",
       "      <td>unknown</td>\n",
       "      <td>no</td>\n",
       "    </tr>\n",
       "    <tr>\n",
       "      <th>4508</th>\n",
       "      <td>42</td>\n",
       "      <td>1</td>\n",
       "      <td>0</td>\n",
       "      <td>unknown</td>\n",
       "      <td>no</td>\n",
       "      <td>642</td>\n",
       "      <td>yes</td>\n",
       "      <td>yes</td>\n",
       "      <td>unknown</td>\n",
       "      <td>16</td>\n",
       "      <td>may</td>\n",
       "      <td>509</td>\n",
       "      <td>2</td>\n",
       "      <td>-1</td>\n",
       "      <td>0</td>\n",
       "      <td>unknown</td>\n",
       "      <td>no</td>\n",
       "    </tr>\n",
       "  </tbody>\n",
       "</table>\n",
       "<p>172 rows × 17 columns</p>\n",
       "</div>"
      ],
      "text/plain": [
       "      age  job  marital education default  balance housing loan    contact  \\\n",
       "20     38    1        0   unknown      no        0     yes   no   cellular   \n",
       "27     67    1        0   unknown      no      696      no   no  telephone   \n",
       "49     61    1        0   unknown      no     4629     yes   no   cellular   \n",
       "132    43    1        0   unknown     yes     -715     yes   no    unknown   \n",
       "133    48    1        0   unknown      no        0     yes   no   cellular   \n",
       "...   ...  ...      ...       ...     ...      ...     ...  ...        ...   \n",
       "4337   73    1        0   unknown      no      519      no   no  telephone   \n",
       "4342   50    1        0   unknown      no     2284     yes   no  telephone   \n",
       "4428   48    1        0   unknown      no      439     yes   no   cellular   \n",
       "4471   59    1        0   unknown      no     3534      no   no   cellular   \n",
       "4508   42    1        0   unknown      no      642     yes  yes    unknown   \n",
       "\n",
       "      day month  duration  campaign  pdays  previous poutcome    y  \n",
       "20     18   nov        96         2     -1         0  unknown   no  \n",
       "27     17   aug       119         1    105         2  failure   no  \n",
       "49     27   jan       181         1     92         1  success  yes  \n",
       "132    30   may        67         3     -1         0  unknown   no  \n",
       "133     8   may        85         1    168         2  failure   no  \n",
       "...   ...   ...       ...       ...    ...       ...      ...  ...  \n",
       "4337   16   oct       434         1     57         1  failure  yes  \n",
       "4342   31   jul      1088        17     -1         0  unknown  yes  \n",
       "4428    2   feb       212         1    249         2    other   no  \n",
       "4471   21   nov       216         4     -1         0  unknown   no  \n",
       "4508   16   may       509         2     -1         0  unknown   no  \n",
       "\n",
       "[172 rows x 17 columns]"
      ]
     },
     "execution_count": 15,
     "metadata": {},
     "output_type": "execute_result"
    }
   ],
   "source": [
    "df[df['education'] == 'unknown']"
   ]
  },
  {
   "cell_type": "markdown",
   "metadata": {},
   "source": [
    "#### 3. transform unknown status to mode of education"
   ]
  },
  {
   "cell_type": "code",
   "execution_count": 16,
   "metadata": {},
   "outputs": [
    {
     "data": {
      "text/plain": [
       "0    secondary\n",
       "dtype: object"
      ]
     },
     "execution_count": 16,
     "metadata": {},
     "output_type": "execute_result"
    }
   ],
   "source": [
    "#Find mode\n",
    "df['education'].mode()"
   ]
  },
  {
   "cell_type": "code",
   "execution_count": 17,
   "metadata": {},
   "outputs": [
    {
     "name": "stderr",
     "output_type": "stream",
     "text": [
      "<ipython-input-17-909b71130b66>:1: SettingWithCopyWarning: \n",
      "A value is trying to be set on a copy of a slice from a DataFrame\n",
      "\n",
      "See the caveats in the documentation: https://pandas.pydata.org/pandas-docs/stable/user_guide/indexing.html#returning-a-view-versus-a-copy\n",
      "  df['education'][df['education'] == 'unknown'] = 'secondary'\n"
     ]
    }
   ],
   "source": [
    "df['education'][df['education'] == 'unknown'] = 'secondary'"
   ]
  },
  {
   "cell_type": "markdown",
   "metadata": {},
   "source": [
    "#### 4. Transform to numeric primary =1, secondary = 2, tertiary = 3"
   ]
  },
  {
   "cell_type": "code",
   "execution_count": 18,
   "metadata": {},
   "outputs": [
    {
     "name": "stderr",
     "output_type": "stream",
     "text": [
      "<ipython-input-18-4932cfb8b409>:1: SettingWithCopyWarning: \n",
      "A value is trying to be set on a copy of a slice from a DataFrame\n",
      "\n",
      "See the caveats in the documentation: https://pandas.pydata.org/pandas-docs/stable/user_guide/indexing.html#returning-a-view-versus-a-copy\n",
      "  df['education'][df['education'] == 'primary'] = 1\n",
      "<ipython-input-18-4932cfb8b409>:2: SettingWithCopyWarning: \n",
      "A value is trying to be set on a copy of a slice from a DataFrame\n",
      "\n",
      "See the caveats in the documentation: https://pandas.pydata.org/pandas-docs/stable/user_guide/indexing.html#returning-a-view-versus-a-copy\n",
      "  df['education'][df['education'] == 'secondary'] = 2\n",
      "<ipython-input-18-4932cfb8b409>:3: SettingWithCopyWarning: \n",
      "A value is trying to be set on a copy of a slice from a DataFrame\n",
      "\n",
      "See the caveats in the documentation: https://pandas.pydata.org/pandas-docs/stable/user_guide/indexing.html#returning-a-view-versus-a-copy\n",
      "  df['education'][df['education'] == 'tertiary'] = 3\n"
     ]
    }
   ],
   "source": [
    "df['education'][df['education'] == 'primary'] = 1\n",
    "df['education'][df['education'] == 'secondary'] = 2\n",
    "df['education'][df['education'] == 'tertiary'] = 3\n",
    "df['education'] = pd.to_numeric(df['education'])"
   ]
  },
  {
   "cell_type": "code",
   "execution_count": 19,
   "metadata": {},
   "outputs": [
    {
     "data": {
      "text/html": [
       "<div>\n",
       "<style scoped>\n",
       "    .dataframe tbody tr th:only-of-type {\n",
       "        vertical-align: middle;\n",
       "    }\n",
       "\n",
       "    .dataframe tbody tr th {\n",
       "        vertical-align: top;\n",
       "    }\n",
       "\n",
       "    .dataframe thead th {\n",
       "        text-align: right;\n",
       "    }\n",
       "</style>\n",
       "<table border=\"1\" class=\"dataframe\">\n",
       "  <thead>\n",
       "    <tr style=\"text-align: right;\">\n",
       "      <th></th>\n",
       "      <th>age</th>\n",
       "      <th>job</th>\n",
       "      <th>marital</th>\n",
       "      <th>education</th>\n",
       "      <th>default</th>\n",
       "      <th>balance</th>\n",
       "      <th>housing</th>\n",
       "      <th>loan</th>\n",
       "      <th>contact</th>\n",
       "      <th>day</th>\n",
       "      <th>month</th>\n",
       "      <th>duration</th>\n",
       "      <th>campaign</th>\n",
       "      <th>pdays</th>\n",
       "      <th>previous</th>\n",
       "      <th>poutcome</th>\n",
       "      <th>y</th>\n",
       "    </tr>\n",
       "  </thead>\n",
       "  <tbody>\n",
       "    <tr>\n",
       "      <th>0</th>\n",
       "      <td>30</td>\n",
       "      <td>0</td>\n",
       "      <td>0</td>\n",
       "      <td>1</td>\n",
       "      <td>no</td>\n",
       "      <td>1787</td>\n",
       "      <td>no</td>\n",
       "      <td>no</td>\n",
       "      <td>cellular</td>\n",
       "      <td>19</td>\n",
       "      <td>oct</td>\n",
       "      <td>79</td>\n",
       "      <td>1</td>\n",
       "      <td>-1</td>\n",
       "      <td>0</td>\n",
       "      <td>unknown</td>\n",
       "      <td>no</td>\n",
       "    </tr>\n",
       "    <tr>\n",
       "      <th>1</th>\n",
       "      <td>33</td>\n",
       "      <td>1</td>\n",
       "      <td>0</td>\n",
       "      <td>2</td>\n",
       "      <td>no</td>\n",
       "      <td>4789</td>\n",
       "      <td>yes</td>\n",
       "      <td>yes</td>\n",
       "      <td>cellular</td>\n",
       "      <td>11</td>\n",
       "      <td>may</td>\n",
       "      <td>220</td>\n",
       "      <td>1</td>\n",
       "      <td>339</td>\n",
       "      <td>4</td>\n",
       "      <td>failure</td>\n",
       "      <td>no</td>\n",
       "    </tr>\n",
       "    <tr>\n",
       "      <th>2</th>\n",
       "      <td>35</td>\n",
       "      <td>1</td>\n",
       "      <td>0</td>\n",
       "      <td>3</td>\n",
       "      <td>no</td>\n",
       "      <td>1350</td>\n",
       "      <td>yes</td>\n",
       "      <td>no</td>\n",
       "      <td>cellular</td>\n",
       "      <td>16</td>\n",
       "      <td>apr</td>\n",
       "      <td>185</td>\n",
       "      <td>1</td>\n",
       "      <td>330</td>\n",
       "      <td>1</td>\n",
       "      <td>failure</td>\n",
       "      <td>no</td>\n",
       "    </tr>\n",
       "    <tr>\n",
       "      <th>3</th>\n",
       "      <td>30</td>\n",
       "      <td>1</td>\n",
       "      <td>0</td>\n",
       "      <td>3</td>\n",
       "      <td>no</td>\n",
       "      <td>1476</td>\n",
       "      <td>yes</td>\n",
       "      <td>yes</td>\n",
       "      <td>unknown</td>\n",
       "      <td>3</td>\n",
       "      <td>jun</td>\n",
       "      <td>199</td>\n",
       "      <td>4</td>\n",
       "      <td>-1</td>\n",
       "      <td>0</td>\n",
       "      <td>unknown</td>\n",
       "      <td>no</td>\n",
       "    </tr>\n",
       "    <tr>\n",
       "      <th>4</th>\n",
       "      <td>59</td>\n",
       "      <td>1</td>\n",
       "      <td>0</td>\n",
       "      <td>2</td>\n",
       "      <td>no</td>\n",
       "      <td>0</td>\n",
       "      <td>yes</td>\n",
       "      <td>no</td>\n",
       "      <td>unknown</td>\n",
       "      <td>5</td>\n",
       "      <td>may</td>\n",
       "      <td>226</td>\n",
       "      <td>1</td>\n",
       "      <td>-1</td>\n",
       "      <td>0</td>\n",
       "      <td>unknown</td>\n",
       "      <td>no</td>\n",
       "    </tr>\n",
       "  </tbody>\n",
       "</table>\n",
       "</div>"
      ],
      "text/plain": [
       "   age  job  marital  education default  balance housing loan   contact  day  \\\n",
       "0   30    0        0          1      no     1787      no   no  cellular   19   \n",
       "1   33    1        0          2      no     4789     yes  yes  cellular   11   \n",
       "2   35    1        0          3      no     1350     yes   no  cellular   16   \n",
       "3   30    1        0          3      no     1476     yes  yes   unknown    3   \n",
       "4   59    1        0          2      no        0     yes   no   unknown    5   \n",
       "\n",
       "  month  duration  campaign  pdays  previous poutcome   y  \n",
       "0   oct        79         1     -1         0  unknown  no  \n",
       "1   may       220         1    339         4  failure  no  \n",
       "2   apr       185         1    330         1  failure  no  \n",
       "3   jun       199         4     -1         0  unknown  no  \n",
       "4   may       226         1     -1         0  unknown  no  "
      ]
     },
     "execution_count": 19,
     "metadata": {},
     "output_type": "execute_result"
    }
   ],
   "source": [
    "df.head()"
   ]
  },
  {
   "cell_type": "code",
   "execution_count": 20,
   "metadata": {},
   "outputs": [
    {
     "name": "stdout",
     "output_type": "stream",
     "text": [
      "<class 'pandas.core.frame.DataFrame'>\n",
      "Int64Index: 4483 entries, 0 to 4520\n",
      "Data columns (total 17 columns):\n",
      " #   Column     Non-Null Count  Dtype \n",
      "---  ------     --------------  ----- \n",
      " 0   age        4483 non-null   int64 \n",
      " 1   job        4483 non-null   int64 \n",
      " 2   marital    4483 non-null   int64 \n",
      " 3   education  4483 non-null   int64 \n",
      " 4   default    4483 non-null   object\n",
      " 5   balance    4483 non-null   int64 \n",
      " 6   housing    4483 non-null   object\n",
      " 7   loan       4483 non-null   object\n",
      " 8   contact    4483 non-null   object\n",
      " 9   day        4483 non-null   int64 \n",
      " 10  month      4483 non-null   object\n",
      " 11  duration   4483 non-null   int64 \n",
      " 12  campaign   4483 non-null   int64 \n",
      " 13  pdays      4483 non-null   int64 \n",
      " 14  previous   4483 non-null   int64 \n",
      " 15  poutcome   4483 non-null   object\n",
      " 16  y          4483 non-null   object\n",
      "dtypes: int64(10), object(7)\n",
      "memory usage: 630.4+ KB\n"
     ]
    }
   ],
   "source": [
    "df.info()"
   ]
  },
  {
   "cell_type": "markdown",
   "metadata": {},
   "source": [
    "### D. Transform default value to numeric"
   ]
  },
  {
   "cell_type": "markdown",
   "metadata": {},
   "source": [
    "#### 1. Check how many value does default has"
   ]
  },
  {
   "cell_type": "code",
   "execution_count": 21,
   "metadata": {},
   "outputs": [
    {
     "data": {
      "text/plain": [
       "array(['no', 'yes'], dtype=object)"
      ]
     },
     "execution_count": 21,
     "metadata": {},
     "output_type": "execute_result"
    }
   ],
   "source": [
    "df['default'].unique()"
   ]
  },
  {
   "cell_type": "markdown",
   "metadata": {},
   "source": [
    "#### 2. Transform no = 0, and yes = 1"
   ]
  },
  {
   "cell_type": "code",
   "execution_count": 22,
   "metadata": {},
   "outputs": [
    {
     "name": "stdout",
     "output_type": "stream",
     "text": [
      "<class 'pandas.core.frame.DataFrame'>\n",
      "Int64Index: 4483 entries, 0 to 4520\n",
      "Data columns (total 17 columns):\n",
      " #   Column     Non-Null Count  Dtype \n",
      "---  ------     --------------  ----- \n",
      " 0   age        4483 non-null   int64 \n",
      " 1   job        4483 non-null   int64 \n",
      " 2   marital    4483 non-null   int64 \n",
      " 3   education  4483 non-null   int64 \n",
      " 4   default    4483 non-null   int64 \n",
      " 5   balance    4483 non-null   int64 \n",
      " 6   housing    4483 non-null   object\n",
      " 7   loan       4483 non-null   object\n",
      " 8   contact    4483 non-null   object\n",
      " 9   day        4483 non-null   int64 \n",
      " 10  month      4483 non-null   object\n",
      " 11  duration   4483 non-null   int64 \n",
      " 12  campaign   4483 non-null   int64 \n",
      " 13  pdays      4483 non-null   int64 \n",
      " 14  previous   4483 non-null   int64 \n",
      " 15  poutcome   4483 non-null   object\n",
      " 16  y          4483 non-null   object\n",
      "dtypes: int64(11), object(6)\n",
      "memory usage: 630.4+ KB\n"
     ]
    },
    {
     "name": "stderr",
     "output_type": "stream",
     "text": [
      "<ipython-input-22-3a5a7c9087c4>:1: SettingWithCopyWarning: \n",
      "A value is trying to be set on a copy of a slice from a DataFrame\n",
      "\n",
      "See the caveats in the documentation: https://pandas.pydata.org/pandas-docs/stable/user_guide/indexing.html#returning-a-view-versus-a-copy\n",
      "  df['default'][df['default'] == 'yes'] = 1\n",
      "<ipython-input-22-3a5a7c9087c4>:2: SettingWithCopyWarning: \n",
      "A value is trying to be set on a copy of a slice from a DataFrame\n",
      "\n",
      "See the caveats in the documentation: https://pandas.pydata.org/pandas-docs/stable/user_guide/indexing.html#returning-a-view-versus-a-copy\n",
      "  df['default'][df['default'] == 'no'] = 0\n"
     ]
    }
   ],
   "source": [
    "df['default'][df['default'] == 'yes'] = 1\n",
    "df['default'][df['default'] == 'no'] = 0\n",
    "df['default'] = pd.to_numeric(df['default'])\n",
    "df.info()"
   ]
  },
  {
   "cell_type": "markdown",
   "metadata": {},
   "source": [
    "### E. Transform housing ownerhip to numeric"
   ]
  },
  {
   "cell_type": "markdown",
   "metadata": {},
   "source": [
    "#### 1. Check how many value does housing has"
   ]
  },
  {
   "cell_type": "code",
   "execution_count": 23,
   "metadata": {},
   "outputs": [
    {
     "data": {
      "text/plain": [
       "array(['no', 'yes'], dtype=object)"
      ]
     },
     "execution_count": 23,
     "metadata": {},
     "output_type": "execute_result"
    }
   ],
   "source": [
    "df['housing'].unique()"
   ]
  },
  {
   "cell_type": "markdown",
   "metadata": {},
   "source": [
    "#### 2. Transform no = 0, and yes = 1"
   ]
  },
  {
   "cell_type": "code",
   "execution_count": 24,
   "metadata": {},
   "outputs": [
    {
     "name": "stdout",
     "output_type": "stream",
     "text": [
      "<class 'pandas.core.frame.DataFrame'>\n",
      "Int64Index: 4483 entries, 0 to 4520\n",
      "Data columns (total 17 columns):\n",
      " #   Column     Non-Null Count  Dtype \n",
      "---  ------     --------------  ----- \n",
      " 0   age        4483 non-null   int64 \n",
      " 1   job        4483 non-null   int64 \n",
      " 2   marital    4483 non-null   int64 \n",
      " 3   education  4483 non-null   int64 \n",
      " 4   default    4483 non-null   int64 \n",
      " 5   balance    4483 non-null   int64 \n",
      " 6   housing    4483 non-null   int64 \n",
      " 7   loan       4483 non-null   object\n",
      " 8   contact    4483 non-null   object\n",
      " 9   day        4483 non-null   int64 \n",
      " 10  month      4483 non-null   object\n",
      " 11  duration   4483 non-null   int64 \n",
      " 12  campaign   4483 non-null   int64 \n",
      " 13  pdays      4483 non-null   int64 \n",
      " 14  previous   4483 non-null   int64 \n",
      " 15  poutcome   4483 non-null   object\n",
      " 16  y          4483 non-null   object\n",
      "dtypes: int64(12), object(5)\n",
      "memory usage: 630.4+ KB\n"
     ]
    },
    {
     "name": "stderr",
     "output_type": "stream",
     "text": [
      "<ipython-input-24-95a210b2b647>:1: SettingWithCopyWarning: \n",
      "A value is trying to be set on a copy of a slice from a DataFrame\n",
      "\n",
      "See the caveats in the documentation: https://pandas.pydata.org/pandas-docs/stable/user_guide/indexing.html#returning-a-view-versus-a-copy\n",
      "  df['housing'][df['housing'] == 'yes'] = 1\n",
      "<ipython-input-24-95a210b2b647>:2: SettingWithCopyWarning: \n",
      "A value is trying to be set on a copy of a slice from a DataFrame\n",
      "\n",
      "See the caveats in the documentation: https://pandas.pydata.org/pandas-docs/stable/user_guide/indexing.html#returning-a-view-versus-a-copy\n",
      "  df['housing'][df['housing'] == 'no'] = 0\n"
     ]
    }
   ],
   "source": [
    "df['housing'][df['housing'] == 'yes'] = 1\n",
    "df['housing'][df['housing'] == 'no'] = 0\n",
    "df['housing'] = pd.to_numeric(df['housing'])\n",
    "df.info()"
   ]
  },
  {
   "cell_type": "markdown",
   "metadata": {},
   "source": [
    "### F. Transform loan  to numeric"
   ]
  },
  {
   "cell_type": "markdown",
   "metadata": {},
   "source": [
    "#### 1. Check how many value does loan has"
   ]
  },
  {
   "cell_type": "code",
   "execution_count": 25,
   "metadata": {},
   "outputs": [
    {
     "data": {
      "text/plain": [
       "array(['no', 'yes'], dtype=object)"
      ]
     },
     "execution_count": 25,
     "metadata": {},
     "output_type": "execute_result"
    }
   ],
   "source": [
    "df['loan'].unique()"
   ]
  },
  {
   "cell_type": "markdown",
   "metadata": {},
   "source": [
    "#### 2. Transform no = 0, and yes = 1"
   ]
  },
  {
   "cell_type": "code",
   "execution_count": 26,
   "metadata": {},
   "outputs": [
    {
     "name": "stdout",
     "output_type": "stream",
     "text": [
      "<class 'pandas.core.frame.DataFrame'>\n",
      "Int64Index: 4483 entries, 0 to 4520\n",
      "Data columns (total 17 columns):\n",
      " #   Column     Non-Null Count  Dtype \n",
      "---  ------     --------------  ----- \n",
      " 0   age        4483 non-null   int64 \n",
      " 1   job        4483 non-null   int64 \n",
      " 2   marital    4483 non-null   int64 \n",
      " 3   education  4483 non-null   int64 \n",
      " 4   default    4483 non-null   int64 \n",
      " 5   balance    4483 non-null   int64 \n",
      " 6   housing    4483 non-null   int64 \n",
      " 7   loan       4483 non-null   int64 \n",
      " 8   contact    4483 non-null   object\n",
      " 9   day        4483 non-null   int64 \n",
      " 10  month      4483 non-null   object\n",
      " 11  duration   4483 non-null   int64 \n",
      " 12  campaign   4483 non-null   int64 \n",
      " 13  pdays      4483 non-null   int64 \n",
      " 14  previous   4483 non-null   int64 \n",
      " 15  poutcome   4483 non-null   object\n",
      " 16  y          4483 non-null   object\n",
      "dtypes: int64(13), object(4)\n",
      "memory usage: 630.4+ KB\n"
     ]
    },
    {
     "name": "stderr",
     "output_type": "stream",
     "text": [
      "<ipython-input-26-2c1800626084>:1: SettingWithCopyWarning: \n",
      "A value is trying to be set on a copy of a slice from a DataFrame\n",
      "\n",
      "See the caveats in the documentation: https://pandas.pydata.org/pandas-docs/stable/user_guide/indexing.html#returning-a-view-versus-a-copy\n",
      "  df['loan'][df['loan'] == 'yes'] = 1\n",
      "<ipython-input-26-2c1800626084>:2: SettingWithCopyWarning: \n",
      "A value is trying to be set on a copy of a slice from a DataFrame\n",
      "\n",
      "See the caveats in the documentation: https://pandas.pydata.org/pandas-docs/stable/user_guide/indexing.html#returning-a-view-versus-a-copy\n",
      "  df['loan'][df['loan'] == 'no'] = 0\n"
     ]
    }
   ],
   "source": [
    "df['loan'][df['loan'] == 'yes'] = 1\n",
    "df['loan'][df['loan'] == 'no'] = 0\n",
    "df['loan'] = pd.to_numeric(df['loan'])\n",
    "df.info()"
   ]
  },
  {
   "cell_type": "markdown",
   "metadata": {},
   "source": [
    "### G. Transform contact to numeric"
   ]
  },
  {
   "cell_type": "markdown",
   "metadata": {},
   "source": [
    "#### 1. Check how many value does Contact has"
   ]
  },
  {
   "cell_type": "code",
   "execution_count": 27,
   "metadata": {},
   "outputs": [
    {
     "data": {
      "text/plain": [
       "array(['cellular', 'unknown', 'telephone'], dtype=object)"
      ]
     },
     "execution_count": 27,
     "metadata": {},
     "output_type": "execute_result"
    }
   ],
   "source": [
    "df['contact'].unique()"
   ]
  },
  {
   "cell_type": "markdown",
   "metadata": {},
   "source": [
    "#### 2. Fill unknown value with cellular"
   ]
  },
  {
   "cell_type": "code",
   "execution_count": 28,
   "metadata": {},
   "outputs": [
    {
     "data": {
      "text/plain": [
       "0    cellular\n",
       "dtype: object"
      ]
     },
     "execution_count": 28,
     "metadata": {},
     "output_type": "execute_result"
    }
   ],
   "source": [
    "#Find mode\n",
    "df['contact'].mode()"
   ]
  },
  {
   "cell_type": "code",
   "execution_count": 29,
   "metadata": {},
   "outputs": [
    {
     "name": "stdout",
     "output_type": "stream",
     "text": [
      "<class 'pandas.core.frame.DataFrame'>\n",
      "Int64Index: 4483 entries, 0 to 4520\n",
      "Data columns (total 17 columns):\n",
      " #   Column     Non-Null Count  Dtype \n",
      "---  ------     --------------  ----- \n",
      " 0   age        4483 non-null   int64 \n",
      " 1   job        4483 non-null   int64 \n",
      " 2   marital    4483 non-null   int64 \n",
      " 3   education  4483 non-null   int64 \n",
      " 4   default    4483 non-null   int64 \n",
      " 5   balance    4483 non-null   int64 \n",
      " 6   housing    4483 non-null   int64 \n",
      " 7   loan       4483 non-null   int64 \n",
      " 8   contact    4483 non-null   int64 \n",
      " 9   day        4483 non-null   int64 \n",
      " 10  month      4483 non-null   object\n",
      " 11  duration   4483 non-null   int64 \n",
      " 12  campaign   4483 non-null   int64 \n",
      " 13  pdays      4483 non-null   int64 \n",
      " 14  previous   4483 non-null   int64 \n",
      " 15  poutcome   4483 non-null   object\n",
      " 16  y          4483 non-null   object\n",
      "dtypes: int64(14), object(3)\n",
      "memory usage: 630.4+ KB\n"
     ]
    },
    {
     "name": "stderr",
     "output_type": "stream",
     "text": [
      "<ipython-input-29-6cf50dfcc42d>:1: SettingWithCopyWarning: \n",
      "A value is trying to be set on a copy of a slice from a DataFrame\n",
      "\n",
      "See the caveats in the documentation: https://pandas.pydata.org/pandas-docs/stable/user_guide/indexing.html#returning-a-view-versus-a-copy\n",
      "  df['contact'][df['contact'] == 'cellular'] = 0\n",
      "<ipython-input-29-6cf50dfcc42d>:2: SettingWithCopyWarning: \n",
      "A value is trying to be set on a copy of a slice from a DataFrame\n",
      "\n",
      "See the caveats in the documentation: https://pandas.pydata.org/pandas-docs/stable/user_guide/indexing.html#returning-a-view-versus-a-copy\n",
      "  df['contact'][df['contact'] == 'unknown'] = 0\n",
      "<ipython-input-29-6cf50dfcc42d>:3: SettingWithCopyWarning: \n",
      "A value is trying to be set on a copy of a slice from a DataFrame\n",
      "\n",
      "See the caveats in the documentation: https://pandas.pydata.org/pandas-docs/stable/user_guide/indexing.html#returning-a-view-versus-a-copy\n",
      "  df['contact'][df['contact'] == 'telephone'] = 1\n"
     ]
    }
   ],
   "source": [
    "df['contact'][df['contact'] == 'cellular'] = 0\n",
    "df['contact'][df['contact'] == 'unknown'] = 0\n",
    "df['contact'][df['contact'] == 'telephone'] = 1\n",
    "df['contact'] = pd.to_numeric(df['contact'])\n",
    "df.info()"
   ]
  },
  {
   "cell_type": "markdown",
   "metadata": {},
   "source": [
    "### H. Transform month to numeric"
   ]
  },
  {
   "cell_type": "code",
   "execution_count": 30,
   "metadata": {},
   "outputs": [
    {
     "data": {
      "text/plain": [
       "array(['oct', 'may', 'apr', 'jun', 'feb', 'aug', 'jan', 'jul', 'nov',\n",
       "       'sep', 'mar', 'dec'], dtype=object)"
      ]
     },
     "execution_count": 30,
     "metadata": {},
     "output_type": "execute_result"
    }
   ],
   "source": [
    "df['month'].unique()"
   ]
  },
  {
   "cell_type": "code",
   "execution_count": 31,
   "metadata": {},
   "outputs": [
    {
     "name": "stdout",
     "output_type": "stream",
     "text": [
      "<class 'pandas.core.frame.DataFrame'>\n",
      "Int64Index: 4483 entries, 0 to 4520\n",
      "Data columns (total 17 columns):\n",
      " #   Column     Non-Null Count  Dtype \n",
      "---  ------     --------------  ----- \n",
      " 0   age        4483 non-null   int64 \n",
      " 1   job        4483 non-null   int64 \n",
      " 2   marital    4483 non-null   int64 \n",
      " 3   education  4483 non-null   int64 \n",
      " 4   default    4483 non-null   int64 \n",
      " 5   balance    4483 non-null   int64 \n",
      " 6   housing    4483 non-null   int64 \n",
      " 7   loan       4483 non-null   int64 \n",
      " 8   contact    4483 non-null   int64 \n",
      " 9   day        4483 non-null   int64 \n",
      " 10  month      4483 non-null   int64 \n",
      " 11  duration   4483 non-null   int64 \n",
      " 12  campaign   4483 non-null   int64 \n",
      " 13  pdays      4483 non-null   int64 \n",
      " 14  previous   4483 non-null   int64 \n",
      " 15  poutcome   4483 non-null   object\n",
      " 16  y          4483 non-null   object\n",
      "dtypes: int64(15), object(2)\n",
      "memory usage: 630.4+ KB\n"
     ]
    },
    {
     "name": "stderr",
     "output_type": "stream",
     "text": [
      "<ipython-input-31-894cee1015da>:1: SettingWithCopyWarning: \n",
      "A value is trying to be set on a copy of a slice from a DataFrame\n",
      "\n",
      "See the caveats in the documentation: https://pandas.pydata.org/pandas-docs/stable/user_guide/indexing.html#returning-a-view-versus-a-copy\n",
      "  df['month'][df['month'] == 'jan'] = 1\n",
      "<ipython-input-31-894cee1015da>:2: SettingWithCopyWarning: \n",
      "A value is trying to be set on a copy of a slice from a DataFrame\n",
      "\n",
      "See the caveats in the documentation: https://pandas.pydata.org/pandas-docs/stable/user_guide/indexing.html#returning-a-view-versus-a-copy\n",
      "  df['month'][df['month'] == 'feb'] = 2\n",
      "<ipython-input-31-894cee1015da>:3: SettingWithCopyWarning: \n",
      "A value is trying to be set on a copy of a slice from a DataFrame\n",
      "\n",
      "See the caveats in the documentation: https://pandas.pydata.org/pandas-docs/stable/user_guide/indexing.html#returning-a-view-versus-a-copy\n",
      "  df['month'][df['month'] == 'mar'] = 3\n",
      "<ipython-input-31-894cee1015da>:4: SettingWithCopyWarning: \n",
      "A value is trying to be set on a copy of a slice from a DataFrame\n",
      "\n",
      "See the caveats in the documentation: https://pandas.pydata.org/pandas-docs/stable/user_guide/indexing.html#returning-a-view-versus-a-copy\n",
      "  df['month'][df['month'] == 'apr'] = 4\n",
      "<ipython-input-31-894cee1015da>:5: SettingWithCopyWarning: \n",
      "A value is trying to be set on a copy of a slice from a DataFrame\n",
      "\n",
      "See the caveats in the documentation: https://pandas.pydata.org/pandas-docs/stable/user_guide/indexing.html#returning-a-view-versus-a-copy\n",
      "  df['month'][df['month'] == 'may'] = 5\n",
      "<ipython-input-31-894cee1015da>:6: SettingWithCopyWarning: \n",
      "A value is trying to be set on a copy of a slice from a DataFrame\n",
      "\n",
      "See the caveats in the documentation: https://pandas.pydata.org/pandas-docs/stable/user_guide/indexing.html#returning-a-view-versus-a-copy\n",
      "  df['month'][df['month'] == 'jun'] = 6\n",
      "<ipython-input-31-894cee1015da>:7: SettingWithCopyWarning: \n",
      "A value is trying to be set on a copy of a slice from a DataFrame\n",
      "\n",
      "See the caveats in the documentation: https://pandas.pydata.org/pandas-docs/stable/user_guide/indexing.html#returning-a-view-versus-a-copy\n",
      "  df['month'][df['month'] == 'jul'] = 7\n",
      "<ipython-input-31-894cee1015da>:8: SettingWithCopyWarning: \n",
      "A value is trying to be set on a copy of a slice from a DataFrame\n",
      "\n",
      "See the caveats in the documentation: https://pandas.pydata.org/pandas-docs/stable/user_guide/indexing.html#returning-a-view-versus-a-copy\n",
      "  df['month'][df['month'] == 'aug'] = 8\n",
      "<ipython-input-31-894cee1015da>:9: SettingWithCopyWarning: \n",
      "A value is trying to be set on a copy of a slice from a DataFrame\n",
      "\n",
      "See the caveats in the documentation: https://pandas.pydata.org/pandas-docs/stable/user_guide/indexing.html#returning-a-view-versus-a-copy\n",
      "  df['month'][df['month'] == 'sep'] = 9\n",
      "<ipython-input-31-894cee1015da>:10: SettingWithCopyWarning: \n",
      "A value is trying to be set on a copy of a slice from a DataFrame\n",
      "\n",
      "See the caveats in the documentation: https://pandas.pydata.org/pandas-docs/stable/user_guide/indexing.html#returning-a-view-versus-a-copy\n",
      "  df['month'][df['month'] == 'oct'] = 10\n",
      "<ipython-input-31-894cee1015da>:11: SettingWithCopyWarning: \n",
      "A value is trying to be set on a copy of a slice from a DataFrame\n",
      "\n",
      "See the caveats in the documentation: https://pandas.pydata.org/pandas-docs/stable/user_guide/indexing.html#returning-a-view-versus-a-copy\n",
      "  df['month'][df['month'] == 'nov'] = 11\n",
      "<ipython-input-31-894cee1015da>:12: SettingWithCopyWarning: \n",
      "A value is trying to be set on a copy of a slice from a DataFrame\n",
      "\n",
      "See the caveats in the documentation: https://pandas.pydata.org/pandas-docs/stable/user_guide/indexing.html#returning-a-view-versus-a-copy\n",
      "  df['month'][df['month'] == 'dec'] = 12\n"
     ]
    }
   ],
   "source": [
    "df['month'][df['month'] == 'jan'] = 1\n",
    "df['month'][df['month'] == 'feb'] = 2\n",
    "df['month'][df['month'] == 'mar'] = 3\n",
    "df['month'][df['month'] == 'apr'] = 4\n",
    "df['month'][df['month'] == 'may'] = 5\n",
    "df['month'][df['month'] == 'jun'] = 6\n",
    "df['month'][df['month'] == 'jul'] = 7\n",
    "df['month'][df['month'] == 'aug'] = 8\n",
    "df['month'][df['month'] == 'sep'] = 9\n",
    "df['month'][df['month'] == 'oct'] = 10\n",
    "df['month'][df['month'] == 'nov'] = 11\n",
    "df['month'][df['month'] == 'dec'] = 12\n",
    "df['month'] = pd.to_numeric(df['month'])\n",
    "df.info()"
   ]
  },
  {
   "cell_type": "markdown",
   "metadata": {},
   "source": [
    "### I. Transform POUTCOME to numeric"
   ]
  },
  {
   "cell_type": "code",
   "execution_count": 32,
   "metadata": {},
   "outputs": [
    {
     "data": {
      "text/plain": [
       "array(['unknown', 'failure', 'other', 'success'], dtype=object)"
      ]
     },
     "execution_count": 32,
     "metadata": {},
     "output_type": "execute_result"
    }
   ],
   "source": [
    "df['poutcome'].unique()"
   ]
  },
  {
   "cell_type": "code",
   "execution_count": 33,
   "metadata": {},
   "outputs": [
    {
     "name": "stdout",
     "output_type": "stream",
     "text": [
      "<class 'pandas.core.frame.DataFrame'>\n",
      "Int64Index: 4483 entries, 0 to 4520\n",
      "Data columns (total 17 columns):\n",
      " #   Column     Non-Null Count  Dtype \n",
      "---  ------     --------------  ----- \n",
      " 0   age        4483 non-null   int64 \n",
      " 1   job        4483 non-null   int64 \n",
      " 2   marital    4483 non-null   int64 \n",
      " 3   education  4483 non-null   int64 \n",
      " 4   default    4483 non-null   int64 \n",
      " 5   balance    4483 non-null   int64 \n",
      " 6   housing    4483 non-null   int64 \n",
      " 7   loan       4483 non-null   int64 \n",
      " 8   contact    4483 non-null   int64 \n",
      " 9   day        4483 non-null   int64 \n",
      " 10  month      4483 non-null   int64 \n",
      " 11  duration   4483 non-null   int64 \n",
      " 12  campaign   4483 non-null   int64 \n",
      " 13  pdays      4483 non-null   int64 \n",
      " 14  previous   4483 non-null   int64 \n",
      " 15  poutcome   4483 non-null   int64 \n",
      " 16  y          4483 non-null   object\n",
      "dtypes: int64(16), object(1)\n",
      "memory usage: 630.4+ KB\n"
     ]
    },
    {
     "name": "stderr",
     "output_type": "stream",
     "text": [
      "<ipython-input-33-7b1a66e014a1>:1: SettingWithCopyWarning: \n",
      "A value is trying to be set on a copy of a slice from a DataFrame\n",
      "\n",
      "See the caveats in the documentation: https://pandas.pydata.org/pandas-docs/stable/user_guide/indexing.html#returning-a-view-versus-a-copy\n",
      "  df['poutcome'][df['poutcome'] == 'success'] = 1\n",
      "<ipython-input-33-7b1a66e014a1>:2: SettingWithCopyWarning: \n",
      "A value is trying to be set on a copy of a slice from a DataFrame\n",
      "\n",
      "See the caveats in the documentation: https://pandas.pydata.org/pandas-docs/stable/user_guide/indexing.html#returning-a-view-versus-a-copy\n",
      "  df['poutcome'][df['poutcome'] == 'other'] = 2\n",
      "<ipython-input-33-7b1a66e014a1>:3: SettingWithCopyWarning: \n",
      "A value is trying to be set on a copy of a slice from a DataFrame\n",
      "\n",
      "See the caveats in the documentation: https://pandas.pydata.org/pandas-docs/stable/user_guide/indexing.html#returning-a-view-versus-a-copy\n",
      "  df['poutcome'][df['poutcome'] == 'unknown'] = 3\n",
      "<ipython-input-33-7b1a66e014a1>:4: SettingWithCopyWarning: \n",
      "A value is trying to be set on a copy of a slice from a DataFrame\n",
      "\n",
      "See the caveats in the documentation: https://pandas.pydata.org/pandas-docs/stable/user_guide/indexing.html#returning-a-view-versus-a-copy\n",
      "  df['poutcome'][df['poutcome'] == 'failure'] = 0\n"
     ]
    }
   ],
   "source": [
    "df['poutcome'][df['poutcome'] == 'success'] = 1\n",
    "df['poutcome'][df['poutcome'] == 'other'] = 2\n",
    "df['poutcome'][df['poutcome'] == 'unknown'] = 3\n",
    "df['poutcome'][df['poutcome'] == 'failure'] = 0\n",
    "df['poutcome'] = pd.to_numeric(df['poutcome'])\n",
    "df.info()"
   ]
  },
  {
   "cell_type": "markdown",
   "metadata": {},
   "source": [
    "### I. Transform Y to numeric"
   ]
  },
  {
   "cell_type": "code",
   "execution_count": 34,
   "metadata": {},
   "outputs": [
    {
     "data": {
      "text/plain": [
       "array(['no', 'yes'], dtype=object)"
      ]
     },
     "execution_count": 34,
     "metadata": {},
     "output_type": "execute_result"
    }
   ],
   "source": [
    "df['y'].unique()"
   ]
  },
  {
   "cell_type": "code",
   "execution_count": 35,
   "metadata": {},
   "outputs": [
    {
     "name": "stdout",
     "output_type": "stream",
     "text": [
      "<class 'pandas.core.frame.DataFrame'>\n",
      "Int64Index: 4483 entries, 0 to 4520\n",
      "Data columns (total 17 columns):\n",
      " #   Column     Non-Null Count  Dtype\n",
      "---  ------     --------------  -----\n",
      " 0   age        4483 non-null   int64\n",
      " 1   job        4483 non-null   int64\n",
      " 2   marital    4483 non-null   int64\n",
      " 3   education  4483 non-null   int64\n",
      " 4   default    4483 non-null   int64\n",
      " 5   balance    4483 non-null   int64\n",
      " 6   housing    4483 non-null   int64\n",
      " 7   loan       4483 non-null   int64\n",
      " 8   contact    4483 non-null   int64\n",
      " 9   day        4483 non-null   int64\n",
      " 10  month      4483 non-null   int64\n",
      " 11  duration   4483 non-null   int64\n",
      " 12  campaign   4483 non-null   int64\n",
      " 13  pdays      4483 non-null   int64\n",
      " 14  previous   4483 non-null   int64\n",
      " 15  poutcome   4483 non-null   int64\n",
      " 16  y          4483 non-null   int64\n",
      "dtypes: int64(17)\n",
      "memory usage: 630.4 KB\n"
     ]
    },
    {
     "name": "stderr",
     "output_type": "stream",
     "text": [
      "<ipython-input-35-7b81b342e76b>:1: SettingWithCopyWarning: \n",
      "A value is trying to be set on a copy of a slice from a DataFrame\n",
      "\n",
      "See the caveats in the documentation: https://pandas.pydata.org/pandas-docs/stable/user_guide/indexing.html#returning-a-view-versus-a-copy\n",
      "  df['y'][df['y'] == 'no'] = 0\n",
      "<ipython-input-35-7b81b342e76b>:2: SettingWithCopyWarning: \n",
      "A value is trying to be set on a copy of a slice from a DataFrame\n",
      "\n",
      "See the caveats in the documentation: https://pandas.pydata.org/pandas-docs/stable/user_guide/indexing.html#returning-a-view-versus-a-copy\n",
      "  df['y'][df['y'] == 'yes'] = 1\n"
     ]
    }
   ],
   "source": [
    "df['y'][df['y'] == 'no'] = 0\n",
    "df['y'][df['y'] == 'yes'] = 1\n",
    "df['y'] = pd.to_numeric(df['y'])\n",
    "df.info()"
   ]
  },
  {
   "cell_type": "code",
   "execution_count": null,
   "metadata": {},
   "outputs": [],
   "source": []
  },
  {
   "cell_type": "code",
   "execution_count": null,
   "metadata": {},
   "outputs": [],
   "source": []
  },
  {
   "cell_type": "code",
   "execution_count": null,
   "metadata": {},
   "outputs": [],
   "source": []
  },
  {
   "cell_type": "code",
   "execution_count": null,
   "metadata": {},
   "outputs": [],
   "source": []
  },
  {
   "cell_type": "code",
   "execution_count": null,
   "metadata": {},
   "outputs": [],
   "source": []
  },
  {
   "cell_type": "code",
   "execution_count": null,
   "metadata": {},
   "outputs": [],
   "source": []
  },
  {
   "cell_type": "code",
   "execution_count": null,
   "metadata": {},
   "outputs": [],
   "source": []
  },
  {
   "cell_type": "code",
   "execution_count": null,
   "metadata": {},
   "outputs": [],
   "source": []
  },
  {
   "cell_type": "code",
   "execution_count": null,
   "metadata": {},
   "outputs": [],
   "source": []
  },
  {
   "cell_type": "code",
   "execution_count": null,
   "metadata": {},
   "outputs": [],
   "source": []
  },
  {
   "cell_type": "markdown",
   "metadata": {},
   "source": [
    "#### SPLIT DATAFRAME X AND Y"
   ]
  },
  {
   "cell_type": "code",
   "execution_count": 36,
   "metadata": {},
   "outputs": [],
   "source": [
    "df_x = df.iloc[:, 0:16]\n",
    "df_y = df.iloc[:, 16:17]"
   ]
  },
  {
   "cell_type": "code",
   "execution_count": 37,
   "metadata": {},
   "outputs": [
    {
     "name": "stdout",
     "output_type": "stream",
     "text": [
      "(3586, 16) (3586, 1)\n",
      "(897, 16) (897, 1)\n"
     ]
    }
   ],
   "source": [
    "X_train, X_test, y_train, y_test = train_test_split(df_x, df_y, test_size=0.2)\n",
    "print(X_train.shape, y_train.shape)\n",
    "print(X_test.shape, y_test.shape)"
   ]
  },
  {
   "cell_type": "markdown",
   "metadata": {},
   "source": [
    "### KNN"
   ]
  },
  {
   "cell_type": "code",
   "execution_count": 38,
   "metadata": {},
   "outputs": [
    {
     "name": "stderr",
     "output_type": "stream",
     "text": [
      "<ipython-input-38-502a9140d140>:2: DataConversionWarning: A column-vector y was passed when a 1d array was expected. Please change the shape of y to (n_samples, ), for example using ravel().\n",
      "  neigh.fit(X_train, y_train)\n"
     ]
    }
   ],
   "source": [
    "neigh = KNeighborsClassifier(n_neighbors=3)\n",
    "neigh.fit(X_train, y_train)\n",
    "y_pred  = neigh.predict(X_test)"
   ]
  },
  {
   "cell_type": "code",
   "execution_count": 39,
   "metadata": {},
   "outputs": [
    {
     "name": "stdout",
     "output_type": "stream",
     "text": [
      "0.8684503901895206\n"
     ]
    }
   ],
   "source": [
    "print(metrics.accuracy_score(y_test, y_pred))"
   ]
  },
  {
   "cell_type": "code",
   "execution_count": 40,
   "metadata": {},
   "outputs": [
    {
     "ename": "NameError",
     "evalue": "name 'k_range' is not defined",
     "output_type": "error",
     "traceback": [
      "\u001b[1;31m---------------------------------------------------------------------------\u001b[0m",
      "\u001b[1;31mNameError\u001b[0m                                 Traceback (most recent call last)",
      "\u001b[1;32m<ipython-input-40-d497aff9d864>\u001b[0m in \u001b[0;36m<module>\u001b[1;34m\u001b[0m\n\u001b[0;32m      7\u001b[0m \u001b[1;31m# plot the relationship between K and testing accuracy\u001b[0m\u001b[1;33m\u001b[0m\u001b[1;33m\u001b[0m\u001b[1;33m\u001b[0m\u001b[0m\n\u001b[0;32m      8\u001b[0m \u001b[1;31m# plt.plot(x_axis, y_axis)\u001b[0m\u001b[1;33m\u001b[0m\u001b[1;33m\u001b[0m\u001b[1;33m\u001b[0m\u001b[0m\n\u001b[1;32m----> 9\u001b[1;33m \u001b[0mplt\u001b[0m\u001b[1;33m.\u001b[0m\u001b[0mplot\u001b[0m\u001b[1;33m(\u001b[0m\u001b[0mk_range\u001b[0m\u001b[1;33m,\u001b[0m \u001b[0mscores\u001b[0m\u001b[1;33m)\u001b[0m\u001b[1;33m\u001b[0m\u001b[1;33m\u001b[0m\u001b[0m\n\u001b[0m\u001b[0;32m     10\u001b[0m \u001b[0mplt\u001b[0m\u001b[1;33m.\u001b[0m\u001b[0mxlabel\u001b[0m\u001b[1;33m(\u001b[0m\u001b[1;34m'Value of K for KNN'\u001b[0m\u001b[1;33m)\u001b[0m\u001b[1;33m\u001b[0m\u001b[1;33m\u001b[0m\u001b[0m\n\u001b[0;32m     11\u001b[0m \u001b[0mplt\u001b[0m\u001b[1;33m.\u001b[0m\u001b[0mylabel\u001b[0m\u001b[1;33m(\u001b[0m\u001b[1;34m'Testing Accuracy'\u001b[0m\u001b[1;33m)\u001b[0m\u001b[1;33m\u001b[0m\u001b[1;33m\u001b[0m\u001b[0m\n",
      "\u001b[1;31mNameError\u001b[0m: name 'k_range' is not defined"
     ]
    }
   ],
   "source": [
    "# import Matplotlib (scientific plotting library)\n",
    "import matplotlib.pyplot as plt\n",
    "\n",
    "# allow plots to appear within the notebook\n",
    "%matplotlib inline\n",
    "\n",
    "# plot the relationship between K and testing accuracy\n",
    "# plt.plot(x_axis, y_axis)\n",
    "plt.plot(k_range, scores)\n",
    "plt.xlabel('Value of K for KNN')\n",
    "plt.ylabel('Testing Accuracy')"
   ]
  },
  {
   "cell_type": "markdown",
   "metadata": {},
   "source": [
    "#### LOGISTIC REGRESSION"
   ]
  },
  {
   "cell_type": "code",
   "execution_count": 41,
   "metadata": {},
   "outputs": [
    {
     "name": "stderr",
     "output_type": "stream",
     "text": [
      "C:\\ProgramData\\Anaconda3\\lib\\site-packages\\sklearn\\utils\\validation.py:73: DataConversionWarning: A column-vector y was passed when a 1d array was expected. Please change the shape of y to (n_samples, ), for example using ravel().\n",
      "  return f(**kwargs)\n",
      "C:\\ProgramData\\Anaconda3\\lib\\site-packages\\sklearn\\linear_model\\_logistic.py:762: ConvergenceWarning: lbfgs failed to converge (status=1):\n",
      "STOP: TOTAL NO. of ITERATIONS REACHED LIMIT.\n",
      "\n",
      "Increase the number of iterations (max_iter) or scale the data as shown in:\n",
      "    https://scikit-learn.org/stable/modules/preprocessing.html\n",
      "Please also refer to the documentation for alternative solver options:\n",
      "    https://scikit-learn.org/stable/modules/linear_model.html#logistic-regression\n",
      "  n_iter_i = _check_optimize_result(\n"
     ]
    },
    {
     "data": {
      "text/plain": [
       "LogisticRegression()"
      ]
     },
     "execution_count": 41,
     "metadata": {},
     "output_type": "execute_result"
    }
   ],
   "source": [
    "#FIT\n",
    "logisticRegr = LogisticRegression()\n",
    "logisticRegr.fit(X_train, y_train)"
   ]
  },
  {
   "cell_type": "code",
   "execution_count": 42,
   "metadata": {},
   "outputs": [
    {
     "data": {
      "text/plain": [
       "array([0, 0, 0, 0, 0, 0, 0, 0, 0, 0, 0, 0, 0, 0, 0, 0, 0, 0, 0, 0, 0, 0,\n",
       "       0, 0, 0, 0, 0, 0, 0, 0, 0, 0, 0, 0, 0, 0, 0, 0, 0, 0, 0, 0, 0, 0,\n",
       "       0, 0, 0, 0, 0, 0, 0, 0, 0, 0, 0, 0, 0, 0, 0, 0, 0, 0, 0, 0, 0, 0,\n",
       "       0, 0, 0, 0, 0, 0, 0, 0, 0, 0, 0, 0, 0, 0, 0, 0, 0, 0, 0, 0, 0, 0,\n",
       "       0, 0, 0, 0, 0, 0, 0, 0, 0, 0, 0, 0, 0, 0, 0, 0, 0, 1, 0, 0, 0, 0,\n",
       "       0, 1, 0, 0, 0, 0, 0, 0, 0, 0, 0, 0, 0, 0, 0, 0, 0, 0, 1, 0, 0, 0,\n",
       "       1, 0, 0, 0, 0, 0, 0, 0, 0, 0, 0, 0, 0, 0, 0, 0, 1, 0, 0, 0, 0, 0,\n",
       "       0, 0, 1, 1, 0, 0, 0, 0, 0, 0, 0, 0, 0, 0, 0, 0, 0, 0, 0, 0, 0, 0,\n",
       "       0, 0, 0, 0, 0, 0, 0, 0, 0, 0, 0, 0, 0, 0, 0, 0, 0, 0, 0, 0, 0, 0,\n",
       "       0, 0, 0, 0, 0, 0, 0, 0, 0, 0, 0, 0, 0, 0, 0, 0, 0, 0, 0, 0, 0, 0,\n",
       "       1, 0, 0, 0, 0, 0, 0, 0, 0, 0, 0, 0, 0, 0, 0, 0, 0, 0, 0, 0, 0, 0,\n",
       "       0, 1, 0, 0, 0, 0, 0, 0, 0, 0, 0, 0, 0, 0, 0, 0, 0, 0, 0, 0, 0, 0,\n",
       "       0, 0, 0, 0, 0, 0, 0, 0, 0, 0, 0, 0, 0, 0, 0, 0, 0, 0, 0, 0, 0, 0,\n",
       "       0, 1, 0, 0, 0, 0, 0, 0, 0, 0, 0, 0, 0, 0, 0, 0, 0, 0, 0, 0, 0, 0,\n",
       "       0, 0, 0, 0, 0, 0, 0, 0, 0, 0, 0, 0, 0, 1, 0, 0, 0, 0, 0, 0, 0, 0,\n",
       "       0, 0, 0, 0, 0, 0, 0, 0, 0, 0, 0, 0, 0, 1, 0, 0, 0, 0, 0, 0, 1, 0,\n",
       "       0, 0, 1, 0, 0, 0, 0, 0, 0, 0, 0, 0, 0, 0, 0, 0, 0, 0, 0, 0, 0, 0,\n",
       "       0, 0, 0, 0, 0, 0, 0, 0, 0, 0, 0, 0, 0, 0, 0, 0, 0, 0, 0, 0, 0, 0,\n",
       "       0, 0, 0, 0, 0, 0, 1, 0, 0, 0, 0, 0, 0, 0, 0, 0, 0, 0, 0, 0, 0, 0,\n",
       "       0, 0, 0, 1, 0, 0, 0, 0, 0, 0, 0, 0, 0, 0, 0, 0, 0, 0, 0, 0, 0, 0,\n",
       "       0, 0, 0, 0, 0, 0, 0, 0, 0, 0, 0, 0, 0, 0, 0, 0, 0, 0, 0, 0, 0, 0,\n",
       "       0, 0, 0, 0, 0, 0, 0, 0, 0, 0, 0, 0, 0, 0, 0, 0, 0, 0, 0, 0, 0, 0,\n",
       "       0, 0, 0, 0, 0, 0, 0, 0, 1, 0, 0, 0, 0, 0, 0, 0, 0, 0, 0, 0, 0, 0,\n",
       "       0, 0, 0, 0, 0, 0, 0, 0, 0, 0, 0, 0, 0, 0, 0, 0, 0, 0, 0, 0, 0, 0,\n",
       "       0, 0, 0, 0, 0, 0, 0, 0, 0, 0, 0, 0, 0, 0, 0, 0, 0, 0, 0, 0, 0, 0,\n",
       "       0, 0, 0, 0, 0, 0, 0, 0, 1, 0, 0, 0, 1, 0, 1, 0, 0, 0, 0, 0, 0, 0,\n",
       "       0, 0, 0, 0, 0, 0, 0, 0, 0, 0, 0, 0, 0, 0, 0, 0, 0, 1, 0, 0, 1, 0,\n",
       "       0, 0, 0, 0, 0, 0, 0, 1, 0, 0, 0, 0, 0, 0, 0, 0, 0, 0, 1, 0, 0, 0,\n",
       "       0, 0, 0, 0, 0, 0, 0, 0, 0, 0, 0, 0, 0, 0, 0, 0, 0, 0, 0, 0, 0, 0,\n",
       "       0, 0, 0, 0, 0, 0, 0, 0, 0, 0, 0, 0, 0, 0, 0, 0, 0, 0, 0, 0, 0, 0,\n",
       "       0, 0, 0, 0, 0, 0, 0, 0, 0, 0, 0, 0, 0, 0, 0, 0, 0, 0, 0, 0, 0, 0,\n",
       "       0, 0, 0, 0, 0, 0, 0, 0, 0, 0, 0, 0, 0, 0, 0, 0, 0, 0, 0, 0, 0, 0,\n",
       "       0, 0, 0, 0, 0, 0, 0, 0, 0, 0, 0, 0, 0, 0, 1, 0, 0, 0, 1, 0, 0, 0,\n",
       "       0, 0, 0, 0, 0, 0, 0, 0, 0, 0, 0, 0, 0, 0, 1, 0, 0, 0, 0, 0, 0, 0,\n",
       "       0, 0, 0, 0, 0, 0, 0, 0, 0, 0, 0, 0, 0, 0, 0, 0, 0, 0, 0, 0, 1, 0,\n",
       "       0, 0, 0, 1, 0, 0, 0, 0, 1, 0, 0, 0, 0, 0, 0, 0, 0, 0, 0, 0, 1, 0,\n",
       "       1, 0, 0, 0, 0, 0, 0, 0, 1, 0, 0, 0, 0, 0, 0, 0, 0, 0, 0, 0, 0, 0,\n",
       "       0, 0, 0, 0, 0, 0, 0, 0, 0, 0, 0, 0, 0, 0, 0, 0, 0, 0, 0, 0, 0, 0,\n",
       "       0, 0, 0, 0, 0, 0, 1, 0, 0, 0, 0, 0, 0, 0, 0, 0, 0, 0, 0, 0, 0, 0,\n",
       "       0, 0, 0, 0, 0, 0, 0, 0, 0, 0, 0, 0, 0, 0, 0, 0, 0, 0, 0, 0, 0, 0,\n",
       "       0, 0, 0, 0, 0, 0, 0, 0, 0, 0, 0, 0, 0, 0, 0, 0, 0], dtype=int64)"
      ]
     },
     "execution_count": 42,
     "metadata": {},
     "output_type": "execute_result"
    }
   ],
   "source": [
    "logisticRegr.predict(X_test)"
   ]
  },
  {
   "cell_type": "code",
   "execution_count": 43,
   "metadata": {},
   "outputs": [
    {
     "name": "stdout",
     "output_type": "stream",
     "text": [
      "0.8784838350055741\n"
     ]
    }
   ],
   "source": [
    "score = logisticRegr.score(X_test, y_test)\n",
    "print(score)"
   ]
  },
  {
   "cell_type": "markdown",
   "metadata": {},
   "source": [
    "#### SVM"
   ]
  },
  {
   "cell_type": "code",
   "execution_count": 44,
   "metadata": {},
   "outputs": [],
   "source": [
    "clf = svm.SVC(kernel='linear')"
   ]
  },
  {
   "cell_type": "code",
   "execution_count": 45,
   "metadata": {},
   "outputs": [
    {
     "name": "stderr",
     "output_type": "stream",
     "text": [
      "C:\\ProgramData\\Anaconda3\\lib\\site-packages\\sklearn\\utils\\validation.py:73: DataConversionWarning: A column-vector y was passed when a 1d array was expected. Please change the shape of y to (n_samples, ), for example using ravel().\n",
      "  return f(**kwargs)\n"
     ]
    },
    {
     "ename": "KeyboardInterrupt",
     "evalue": "",
     "output_type": "error",
     "traceback": [
      "\u001b[1;31m---------------------------------------------------------------------------\u001b[0m",
      "\u001b[1;31mKeyboardInterrupt\u001b[0m                         Traceback (most recent call last)",
      "\u001b[1;32m<ipython-input-45-86937c1966f0>\u001b[0m in \u001b[0;36m<module>\u001b[1;34m\u001b[0m\n\u001b[1;32m----> 1\u001b[1;33m \u001b[0mclf\u001b[0m\u001b[1;33m.\u001b[0m\u001b[0mfit\u001b[0m\u001b[1;33m(\u001b[0m\u001b[0mX_train\u001b[0m\u001b[1;33m,\u001b[0m\u001b[0my_train\u001b[0m\u001b[1;33m)\u001b[0m\u001b[1;33m\u001b[0m\u001b[1;33m\u001b[0m\u001b[0m\n\u001b[0m",
      "\u001b[1;32mC:\\ProgramData\\Anaconda3\\lib\\site-packages\\sklearn\\svm\\_base.py\u001b[0m in \u001b[0;36mfit\u001b[1;34m(self, X, y, sample_weight)\u001b[0m\n\u001b[0;32m    215\u001b[0m \u001b[1;33m\u001b[0m\u001b[0m\n\u001b[0;32m    216\u001b[0m         \u001b[0mseed\u001b[0m \u001b[1;33m=\u001b[0m \u001b[0mrnd\u001b[0m\u001b[1;33m.\u001b[0m\u001b[0mrandint\u001b[0m\u001b[1;33m(\u001b[0m\u001b[0mnp\u001b[0m\u001b[1;33m.\u001b[0m\u001b[0miinfo\u001b[0m\u001b[1;33m(\u001b[0m\u001b[1;34m'i'\u001b[0m\u001b[1;33m)\u001b[0m\u001b[1;33m.\u001b[0m\u001b[0mmax\u001b[0m\u001b[1;33m)\u001b[0m\u001b[1;33m\u001b[0m\u001b[1;33m\u001b[0m\u001b[0m\n\u001b[1;32m--> 217\u001b[1;33m         \u001b[0mfit\u001b[0m\u001b[1;33m(\u001b[0m\u001b[0mX\u001b[0m\u001b[1;33m,\u001b[0m \u001b[0my\u001b[0m\u001b[1;33m,\u001b[0m \u001b[0msample_weight\u001b[0m\u001b[1;33m,\u001b[0m \u001b[0msolver_type\u001b[0m\u001b[1;33m,\u001b[0m \u001b[0mkernel\u001b[0m\u001b[1;33m,\u001b[0m \u001b[0mrandom_seed\u001b[0m\u001b[1;33m=\u001b[0m\u001b[0mseed\u001b[0m\u001b[1;33m)\u001b[0m\u001b[1;33m\u001b[0m\u001b[1;33m\u001b[0m\u001b[0m\n\u001b[0m\u001b[0;32m    218\u001b[0m         \u001b[1;31m# see comment on the other call to np.iinfo in this file\u001b[0m\u001b[1;33m\u001b[0m\u001b[1;33m\u001b[0m\u001b[1;33m\u001b[0m\u001b[0m\n\u001b[0;32m    219\u001b[0m \u001b[1;33m\u001b[0m\u001b[0m\n",
      "\u001b[1;32mC:\\ProgramData\\Anaconda3\\lib\\site-packages\\sklearn\\svm\\_base.py\u001b[0m in \u001b[0;36m_dense_fit\u001b[1;34m(self, X, y, sample_weight, solver_type, kernel, random_seed)\u001b[0m\n\u001b[0;32m    266\u001b[0m         \u001b[0mself\u001b[0m\u001b[1;33m.\u001b[0m\u001b[0msupport_\u001b[0m\u001b[1;33m,\u001b[0m \u001b[0mself\u001b[0m\u001b[1;33m.\u001b[0m\u001b[0msupport_vectors_\u001b[0m\u001b[1;33m,\u001b[0m \u001b[0mself\u001b[0m\u001b[1;33m.\u001b[0m\u001b[0m_n_support\u001b[0m\u001b[1;33m,\u001b[0m\u001b[0;31m \u001b[0m\u001b[0;31m\\\u001b[0m\u001b[1;33m\u001b[0m\u001b[1;33m\u001b[0m\u001b[0m\n\u001b[0;32m    267\u001b[0m             \u001b[0mself\u001b[0m\u001b[1;33m.\u001b[0m\u001b[0mdual_coef_\u001b[0m\u001b[1;33m,\u001b[0m \u001b[0mself\u001b[0m\u001b[1;33m.\u001b[0m\u001b[0mintercept_\u001b[0m\u001b[1;33m,\u001b[0m \u001b[0mself\u001b[0m\u001b[1;33m.\u001b[0m\u001b[0m_probA\u001b[0m\u001b[1;33m,\u001b[0m\u001b[0;31m \u001b[0m\u001b[0;31m\\\u001b[0m\u001b[1;33m\u001b[0m\u001b[1;33m\u001b[0m\u001b[0m\n\u001b[1;32m--> 268\u001b[1;33m             self._probB, self.fit_status_ = libsvm.fit(\n\u001b[0m\u001b[0;32m    269\u001b[0m                 \u001b[0mX\u001b[0m\u001b[1;33m,\u001b[0m \u001b[0my\u001b[0m\u001b[1;33m,\u001b[0m\u001b[1;33m\u001b[0m\u001b[1;33m\u001b[0m\u001b[0m\n\u001b[0;32m    270\u001b[0m                 \u001b[0msvm_type\u001b[0m\u001b[1;33m=\u001b[0m\u001b[0msolver_type\u001b[0m\u001b[1;33m,\u001b[0m \u001b[0msample_weight\u001b[0m\u001b[1;33m=\u001b[0m\u001b[0msample_weight\u001b[0m\u001b[1;33m,\u001b[0m\u001b[1;33m\u001b[0m\u001b[1;33m\u001b[0m\u001b[0m\n",
      "\u001b[1;31mKeyboardInterrupt\u001b[0m: "
     ]
    }
   ],
   "source": [
    "clf.fit(X_train,y_train)"
   ]
  },
  {
   "cell_type": "code",
   "execution_count": null,
   "metadata": {},
   "outputs": [],
   "source": [
    "y_pred = clf.predict(X_test)"
   ]
  },
  {
   "cell_type": "markdown",
   "metadata": {},
   "source": [
    "#### NAIVE BAYES"
   ]
  },
  {
   "cell_type": "code",
   "execution_count": 48,
   "metadata": {},
   "outputs": [
    {
     "name": "stderr",
     "output_type": "stream",
     "text": [
      "C:\\ProgramData\\Anaconda3\\lib\\site-packages\\sklearn\\utils\\validation.py:73: DataConversionWarning: A column-vector y was passed when a 1d array was expected. Please change the shape of y to (n_samples, ), for example using ravel().\n",
      "  return f(**kwargs)\n"
     ]
    }
   ],
   "source": [
    "gnb = GaussianNB()\n",
    "y_pred = gnb.fit(X_train, y_train).predict(X_test)"
   ]
  },
  {
   "cell_type": "markdown",
   "metadata": {},
   "source": [
    "#### DECISION TREE"
   ]
  },
  {
   "cell_type": "code",
   "execution_count": 51,
   "metadata": {},
   "outputs": [],
   "source": [
    "clf = tree.DecisionTreeClassifier()"
   ]
  },
  {
   "cell_type": "code",
   "execution_count": 52,
   "metadata": {},
   "outputs": [],
   "source": [
    "clf = clf.fit(X_train, y_train)"
   ]
  },
  {
   "cell_type": "code",
   "execution_count": 53,
   "metadata": {},
   "outputs": [
    {
     "data": {
      "text/plain": [
       "[Text(218.53011967670045, 212.26285714285714, 'X[11] <= 632.5\\ngini = 0.2\\nsamples = 3586\\nvalue = [3183, 403]'),\n",
       " Text(136.3020292055783, 201.90857142857143, 'X[11] <= 221.5\\ngini = 0.147\\nsamples = 3287\\nvalue = [3025, 262]'),\n",
       " Text(62.245187025569315, 191.5542857142857, 'X[0] <= 60.5\\ngini = 0.063\\nsamples = 2111\\nvalue = [2042, 69]'),\n",
       " Text(22.833162704754294, 181.2, 'X[0] <= 19.5\\ngini = 0.055\\nsamples = 2064\\nvalue = [2006, 58]'),\n",
       " Text(9.63068318018378, 170.84571428571428, 'X[12] <= 2.5\\ngini = 0.444\\nsamples = 3\\nvalue = [1, 2]'),\n",
       " Text(8.56060727127447, 160.49142857142857, 'gini = 0.0\\nsamples = 2\\nvalue = [0, 2]'),\n",
       " Text(10.700759089093088, 160.49142857142857, 'gini = 0.0\\nsamples = 1\\nvalue = [1, 0]'),\n",
       " Text(36.03564222932481, 170.84571428571428, 'X[15] <= 1.5\\ngini = 0.053\\nsamples = 2061\\nvalue = [2005, 56]'),\n",
       " Text(12.840910906911706, 160.49142857142857, 'X[13] <= 99.5\\ngini = 0.156\\nsamples = 270\\nvalue = [247, 23]'),\n",
       " Text(6.955493407910508, 150.13714285714286, 'X[5] <= 1107.5\\ngini = 0.488\\nsamples = 38\\nvalue = [22, 16]'),\n",
       " Text(3.2102277267279264, 139.78285714285715, 'X[9] <= 6.0\\ngini = 0.486\\nsamples = 24\\nvalue = [10, 14]'),\n",
       " Text(2.1401518178186176, 129.42857142857144, 'gini = 0.0\\nsamples = 6\\nvalue = [0, 6]'),\n",
       " Text(4.280303635637235, 129.42857142857144, 'X[3] <= 2.5\\ngini = 0.494\\nsamples = 18\\nvalue = [10, 8]'),\n",
       " Text(2.1401518178186176, 119.07428571428571, 'X[12] <= 2.0\\ngini = 0.245\\nsamples = 7\\nvalue = [1, 6]'),\n",
       " Text(1.0700759089093088, 108.72, 'gini = 0.0\\nsamples = 6\\nvalue = [0, 6]'),\n",
       " Text(3.2102277267279264, 108.72, 'gini = 0.0\\nsamples = 1\\nvalue = [1, 0]'),\n",
       " Text(6.420455453455853, 119.07428571428571, 'X[13] <= 95.0\\ngini = 0.298\\nsamples = 11\\nvalue = [9, 2]'),\n",
       " Text(5.350379544546544, 108.72, 'gini = 0.0\\nsamples = 8\\nvalue = [8, 0]'),\n",
       " Text(7.490531362365162, 108.72, 'X[5] <= 593.5\\ngini = 0.444\\nsamples = 3\\nvalue = [1, 2]'),\n",
       " Text(6.420455453455853, 98.36571428571429, 'gini = 0.0\\nsamples = 2\\nvalue = [0, 2]'),\n",
       " Text(8.56060727127447, 98.36571428571429, 'gini = 0.0\\nsamples = 1\\nvalue = [1, 0]'),\n",
       " Text(10.700759089093088, 139.78285714285715, 'X[0] <= 28.0\\ngini = 0.245\\nsamples = 14\\nvalue = [12, 2]'),\n",
       " Text(9.63068318018378, 129.42857142857144, 'X[5] <= 2503.5\\ngini = 0.444\\nsamples = 3\\nvalue = [1, 2]'),\n",
       " Text(8.56060727127447, 119.07428571428571, 'gini = 0.0\\nsamples = 1\\nvalue = [1, 0]'),\n",
       " Text(10.700759089093088, 119.07428571428571, 'gini = 0.0\\nsamples = 2\\nvalue = [0, 2]'),\n",
       " Text(11.770834998002396, 129.42857142857144, 'gini = 0.0\\nsamples = 11\\nvalue = [11, 0]'),\n",
       " Text(18.726328405912906, 150.13714285714286, 'X[11] <= 151.5\\ngini = 0.059\\nsamples = 232\\nvalue = [225, 7]'),\n",
       " Text(14.981062724730323, 139.78285714285715, 'X[5] <= 2364.0\\ngini = 0.013\\nsamples = 154\\nvalue = [153, 1]'),\n",
       " Text(13.910986815821015, 129.42857142857144, 'gini = 0.0\\nsamples = 138\\nvalue = [138, 0]'),\n",
       " Text(16.05113863363963, 129.42857142857144, 'X[5] <= 2454.0\\ngini = 0.117\\nsamples = 16\\nvalue = [15, 1]'),\n",
       " Text(14.981062724730323, 119.07428571428571, 'gini = 0.0\\nsamples = 1\\nvalue = [0, 1]'),\n",
       " Text(17.12121454254894, 119.07428571428571, 'gini = 0.0\\nsamples = 15\\nvalue = [15, 0]'),\n",
       " Text(22.471594087095486, 139.78285714285715, 'X[6] <= 0.5\\ngini = 0.142\\nsamples = 78\\nvalue = [72, 6]'),\n",
       " Text(20.331442269276867, 129.42857142857144, 'X[10] <= 5.5\\ngini = 0.375\\nsamples = 20\\nvalue = [15, 5]'),\n",
       " Text(19.26136636036756, 119.07428571428571, 'X[9] <= 7.5\\ngini = 0.486\\nsamples = 12\\nvalue = [7, 5]'),\n",
       " Text(18.19129045145825, 108.72, 'gini = 0.0\\nsamples = 6\\nvalue = [6, 0]'),\n",
       " Text(20.331442269276867, 108.72, 'X[12] <= 4.0\\ngini = 0.278\\nsamples = 6\\nvalue = [1, 5]'),\n",
       " Text(19.26136636036756, 98.36571428571429, 'gini = 0.0\\nsamples = 5\\nvalue = [0, 5]'),\n",
       " Text(21.401518178186176, 98.36571428571429, 'gini = 0.0\\nsamples = 1\\nvalue = [1, 0]'),\n",
       " Text(21.401518178186176, 119.07428571428571, 'gini = 0.0\\nsamples = 8\\nvalue = [8, 0]'),\n",
       " Text(24.611745904914102, 129.42857142857144, 'X[10] <= 8.0\\ngini = 0.034\\nsamples = 58\\nvalue = [57, 1]'),\n",
       " Text(23.541669996004792, 119.07428571428571, 'gini = 0.0\\nsamples = 46\\nvalue = [46, 0]'),\n",
       " Text(25.68182181382341, 119.07428571428571, 'X[13] <= 202.5\\ngini = 0.153\\nsamples = 12\\nvalue = [11, 1]'),\n",
       " Text(24.611745904914102, 108.72, 'gini = 0.0\\nsamples = 11\\nvalue = [11, 0]'),\n",
       " Text(26.75189772273272, 108.72, 'gini = 0.0\\nsamples = 1\\nvalue = [0, 1]'),\n",
       " Text(59.23037355173791, 160.49142857142857, 'X[10] <= 4.5\\ngini = 0.036\\nsamples = 1791\\nvalue = [1758, 33]'),\n",
       " Text(36.115061925689176, 150.13714285714286, 'X[10] <= 2.5\\ngini = 0.134\\nsamples = 208\\nvalue = [193, 15]'),\n",
       " Text(31.032201358369957, 139.78285714285715, 'X[5] <= 2078.0\\ngini = 0.065\\nsamples = 118\\nvalue = [114, 4]'),\n",
       " Text(28.892049540551337, 129.42857142857144, 'X[5] <= 1057.0\\ngini = 0.019\\nsamples = 107\\nvalue = [106, 1]'),\n",
       " Text(27.82197363164203, 119.07428571428571, 'gini = 0.0\\nsamples = 91\\nvalue = [91, 0]'),\n",
       " Text(29.962125449460647, 119.07428571428571, 'X[5] <= 1077.0\\ngini = 0.117\\nsamples = 16\\nvalue = [15, 1]'),\n",
       " Text(28.892049540551337, 108.72, 'gini = 0.0\\nsamples = 1\\nvalue = [0, 1]'),\n",
       " Text(31.032201358369957, 108.72, 'gini = 0.0\\nsamples = 15\\nvalue = [15, 0]'),\n",
       " Text(33.17235317618857, 129.42857142857144, 'X[5] <= 2769.0\\ngini = 0.397\\nsamples = 11\\nvalue = [8, 3]'),\n",
       " Text(32.10227726727926, 119.07428571428571, 'gini = 0.0\\nsamples = 3\\nvalue = [0, 3]'),\n",
       " Text(34.24242908509788, 119.07428571428571, 'gini = 0.0\\nsamples = 8\\nvalue = [8, 0]'),\n",
       " Text(41.19792249300839, 139.78285714285715, 'X[5] <= 30.5\\ngini = 0.215\\nsamples = 90\\nvalue = [79, 11]'),\n",
       " Text(37.45265681182581, 129.42857142857144, 'X[5] <= 6.0\\ngini = 0.444\\nsamples = 15\\nvalue = [10, 5]'),\n",
       " Text(36.3825809029165, 119.07428571428571, 'X[10] <= 3.5\\ngini = 0.278\\nsamples = 12\\nvalue = [10, 2]'),\n",
       " Text(35.31250499400719, 108.72, 'gini = 0.0\\nsamples = 1\\nvalue = [0, 1]'),\n",
       " Text(37.45265681182581, 108.72, 'X[9] <= 20.5\\ngini = 0.165\\nsamples = 11\\nvalue = [10, 1]'),\n",
       " Text(36.3825809029165, 98.36571428571429, 'gini = 0.0\\nsamples = 9\\nvalue = [9, 0]'),\n",
       " Text(38.52273272073512, 98.36571428571429, 'X[5] <= -154.0\\ngini = 0.5\\nsamples = 2\\nvalue = [1, 1]'),\n",
       " Text(37.45265681182581, 88.01142857142858, 'gini = 0.0\\nsamples = 1\\nvalue = [1, 0]'),\n",
       " Text(39.59280862964442, 88.01142857142858, 'gini = 0.0\\nsamples = 1\\nvalue = [0, 1]'),\n",
       " Text(38.52273272073512, 119.07428571428571, 'gini = 0.0\\nsamples = 3\\nvalue = [0, 3]'),\n",
       " Text(44.94318817419097, 129.42857142857144, 'X[3] <= 2.5\\ngini = 0.147\\nsamples = 75\\nvalue = [69, 6]'),\n",
       " Text(42.80303635637235, 119.07428571428571, 'X[5] <= 164.0\\ngini = 0.039\\nsamples = 50\\nvalue = [49, 1]'),\n",
       " Text(41.73296044746304, 108.72, 'X[9] <= 16.0\\ngini = 0.219\\nsamples = 8\\nvalue = [7, 1]'),\n",
       " Text(40.66288453855373, 98.36571428571429, 'gini = 0.0\\nsamples = 1\\nvalue = [0, 1]'),\n",
       " Text(42.80303635637235, 98.36571428571429, 'gini = 0.0\\nsamples = 7\\nvalue = [7, 0]'),\n",
       " Text(43.87311226528166, 108.72, 'gini = 0.0\\nsamples = 42\\nvalue = [42, 0]'),\n",
       " Text(47.083339992009584, 119.07428571428571, 'X[0] <= 33.0\\ngini = 0.32\\nsamples = 25\\nvalue = [20, 5]'),\n",
       " Text(46.01326408310028, 108.72, 'gini = 0.0\\nsamples = 10\\nvalue = [10, 0]'),\n",
       " Text(48.153415900918894, 108.72, 'X[9] <= 15.0\\ngini = 0.444\\nsamples = 15\\nvalue = [10, 5]'),\n",
       " Text(44.94318817419097, 98.36571428571429, 'X[6] <= 0.5\\ngini = 0.375\\nsamples = 4\\nvalue = [1, 3]'),\n",
       " Text(43.87311226528166, 88.01142857142858, 'gini = 0.0\\nsamples = 2\\nvalue = [0, 2]'),\n",
       " Text(46.01326408310028, 88.01142857142858, 'X[11] <= 163.0\\ngini = 0.5\\nsamples = 2\\nvalue = [1, 1]'),\n",
       " Text(44.94318817419097, 77.65714285714284, 'gini = 0.0\\nsamples = 1\\nvalue = [0, 1]'),\n",
       " Text(47.083339992009584, 77.65714285714284, 'gini = 0.0\\nsamples = 1\\nvalue = [1, 0]'),\n",
       " Text(51.36364362764682, 98.36571428571429, 'X[11] <= 126.0\\ngini = 0.298\\nsamples = 11\\nvalue = [9, 2]'),\n",
       " Text(50.29356771873751, 88.01142857142858, 'X[11] <= 82.5\\ngini = 0.48\\nsamples = 5\\nvalue = [3, 2]'),\n",
       " Text(49.223491809828204, 77.65714285714284, 'gini = 0.0\\nsamples = 3\\nvalue = [3, 0]'),\n",
       " Text(51.36364362764682, 77.65714285714284, 'gini = 0.0\\nsamples = 2\\nvalue = [0, 2]'),\n",
       " Text(52.43371953655613, 88.01142857142858, 'gini = 0.0\\nsamples = 6\\nvalue = [6, 0]'),\n",
       " Text(82.34568517778665, 150.13714285714286, 'X[0] <= 36.5\\ngini = 0.022\\nsamples = 1583\\nvalue = [1565, 18]'),\n",
       " Text(76.94514582500999, 139.78285714285715, 'X[11] <= 217.5\\ngini = 0.045\\nsamples = 609\\nvalue = [595, 14]'),\n",
       " Text(72.56452257291251, 129.42857142857144, 'X[10] <= 8.5\\ngini = 0.042\\nsamples = 605\\nvalue = [592, 13]'),\n",
       " Text(67.01350379544546, 119.07428571428571, 'X[13] <= 347.0\\ngini = 0.03\\nsamples = 533\\nvalue = [525, 8]'),\n",
       " Text(62.33192169396724, 108.72, 'X[6] <= 0.5\\ngini = 0.026\\nsamples = 528\\nvalue = [521, 7]'),\n",
       " Text(56.17898521773871, 98.36571428571429, 'X[5] <= 160.0\\ngini = 0.06\\nsamples = 195\\nvalue = [189, 6]'),\n",
       " Text(55.1089093088294, 88.01142857142858, 'gini = 0.0\\nsamples = 88\\nvalue = [88, 0]'),\n",
       " Text(57.24906112664802, 88.01142857142858, 'X[5] <= 201.5\\ngini = 0.106\\nsamples = 107\\nvalue = [101, 6]'),\n",
       " Text(53.50379544546544, 77.65714285714284, 'X[5] <= 194.0\\ngini = 0.444\\nsamples = 12\\nvalue = [8, 4]'),\n",
       " Text(52.43371953655613, 67.30285714285714, 'X[11] <= 116.0\\ngini = 0.32\\nsamples = 10\\nvalue = [8, 2]'),\n",
       " Text(51.36364362764682, 56.94857142857143, 'gini = 0.0\\nsamples = 7\\nvalue = [7, 0]'),\n",
       " Text(53.50379544546544, 56.94857142857143, 'X[5] <= 173.5\\ngini = 0.444\\nsamples = 3\\nvalue = [1, 2]'),\n",
       " Text(52.43371953655613, 46.59428571428572, 'gini = 0.0\\nsamples = 2\\nvalue = [0, 2]'),\n",
       " Text(54.57387135437475, 46.59428571428572, 'gini = 0.0\\nsamples = 1\\nvalue = [1, 0]'),\n",
       " Text(54.57387135437475, 67.30285714285714, 'gini = 0.0\\nsamples = 2\\nvalue = [0, 2]'),\n",
       " Text(60.9943268078306, 77.65714285714284, 'X[8] <= 0.5\\ngini = 0.041\\nsamples = 95\\nvalue = [93, 2]'),\n",
       " Text(58.854174990011984, 67.30285714285714, 'X[9] <= 5.5\\ngini = 0.022\\nsamples = 91\\nvalue = [90, 1]'),\n",
       " Text(57.784099081102674, 56.94857142857143, 'X[5] <= 1231.5\\ngini = 0.245\\nsamples = 7\\nvalue = [6, 1]'),\n",
       " Text(56.714023172193365, 46.59428571428572, 'gini = 0.0\\nsamples = 5\\nvalue = [5, 0]'),\n",
       " Text(58.854174990011984, 46.59428571428572, 'X[11] <= 136.0\\ngini = 0.5\\nsamples = 2\\nvalue = [1, 1]'),\n",
       " Text(57.784099081102674, 36.24000000000001, 'gini = 0.0\\nsamples = 1\\nvalue = [1, 0]'),\n",
       " Text(59.924250898921294, 36.24000000000001, 'gini = 0.0\\nsamples = 1\\nvalue = [0, 1]'),\n",
       " Text(59.924250898921294, 56.94857142857143, 'gini = 0.0\\nsamples = 84\\nvalue = [84, 0]'),\n",
       " Text(63.13447862564922, 67.30285714285714, 'X[12] <= 5.0\\ngini = 0.375\\nsamples = 4\\nvalue = [3, 1]'),\n",
       " Text(62.06440271673991, 56.94857142857143, 'gini = 0.0\\nsamples = 1\\nvalue = [0, 1]'),\n",
       " Text(64.20455453455853, 56.94857142857143, 'gini = 0.0\\nsamples = 3\\nvalue = [3, 0]'),\n",
       " Text(68.48485817019576, 98.36571428571429, 'X[9] <= 24.5\\ngini = 0.006\\nsamples = 333\\nvalue = [332, 1]'),\n",
       " Text(67.41478226128646, 88.01142857142858, 'gini = 0.0\\nsamples = 266\\nvalue = [266, 0]'),\n",
       " Text(69.55493407910507, 88.01142857142858, 'X[9] <= 25.5\\ngini = 0.029\\nsamples = 67\\nvalue = [66, 1]'),\n",
       " Text(68.48485817019576, 77.65714285714284, 'X[10] <= 6.0\\ngini = 0.245\\nsamples = 7\\nvalue = [6, 1]'),\n",
       " Text(67.41478226128646, 67.30285714285714, 'X[12] <= 1.5\\ngini = 0.5\\nsamples = 2\\nvalue = [1, 1]'),\n",
       " Text(66.34470635237714, 56.94857142857143, 'gini = 0.0\\nsamples = 1\\nvalue = [1, 0]'),\n",
       " Text(68.48485817019576, 56.94857142857143, 'gini = 0.0\\nsamples = 1\\nvalue = [0, 1]'),\n",
       " Text(69.55493407910507, 67.30285714285714, 'gini = 0.0\\nsamples = 5\\nvalue = [5, 0]'),\n",
       " Text(70.62500998801438, 77.65714285714284, 'gini = 0.0\\nsamples = 60\\nvalue = [60, 0]'),\n",
       " Text(71.69508589692369, 108.72, 'X[13] <= 358.5\\ngini = 0.32\\nsamples = 5\\nvalue = [4, 1]'),\n",
       " Text(70.62500998801438, 98.36571428571429, 'gini = 0.0\\nsamples = 1\\nvalue = [0, 1]'),\n",
       " Text(72.765161805833, 98.36571428571429, 'gini = 0.0\\nsamples = 4\\nvalue = [4, 0]'),\n",
       " Text(78.11554135037954, 119.07428571428571, 'X[9] <= 29.5\\ngini = 0.129\\nsamples = 72\\nvalue = [67, 5]'),\n",
       " Text(77.04546544147024, 108.72, 'X[11] <= 209.0\\ngini = 0.106\\nsamples = 71\\nvalue = [67, 4]'),\n",
       " Text(75.97538953256092, 98.36571428571429, 'X[9] <= 14.5\\ngini = 0.082\\nsamples = 70\\nvalue = [67, 3]'),\n",
       " Text(73.8352377147423, 88.01142857142858, 'X[6] <= 0.5\\ngini = 0.346\\nsamples = 9\\nvalue = [7, 2]'),\n",
       " Text(72.765161805833, 77.65714285714284, 'gini = 0.0\\nsamples = 6\\nvalue = [6, 0]'),\n",
       " Text(74.90531362365162, 77.65714285714284, 'X[11] <= 139.0\\ngini = 0.444\\nsamples = 3\\nvalue = [1, 2]'),\n",
       " Text(73.8352377147423, 67.30285714285714, 'gini = 0.0\\nsamples = 2\\nvalue = [0, 2]'),\n",
       " Text(75.97538953256092, 67.30285714285714, 'gini = 0.0\\nsamples = 1\\nvalue = [1, 0]'),\n",
       " Text(78.11554135037954, 88.01142857142858, 'X[8] <= 0.5\\ngini = 0.032\\nsamples = 61\\nvalue = [60, 1]'),\n",
       " Text(77.04546544147024, 77.65714285714284, 'gini = 0.0\\nsamples = 58\\nvalue = [58, 0]'),\n",
       " Text(79.18561725928885, 77.65714285714284, 'X[3] <= 2.5\\ngini = 0.444\\nsamples = 3\\nvalue = [2, 1]'),\n",
       " Text(78.11554135037954, 67.30285714285714, 'gini = 0.0\\nsamples = 2\\nvalue = [2, 0]'),\n",
       " Text(80.25569316819816, 67.30285714285714, 'gini = 0.0\\nsamples = 1\\nvalue = [0, 1]'),\n",
       " Text(78.11554135037954, 98.36571428571429, 'gini = 0.0\\nsamples = 1\\nvalue = [0, 1]'),\n",
       " Text(79.18561725928885, 108.72, 'gini = 0.0\\nsamples = 1\\nvalue = [0, 1]'),\n",
       " Text(81.32576907710747, 129.42857142857144, 'X[12] <= 1.5\\ngini = 0.375\\nsamples = 4\\nvalue = [3, 1]'),\n",
       " Text(80.25569316819816, 119.07428571428571, 'gini = 0.0\\nsamples = 1\\nvalue = [0, 1]'),\n",
       " Text(82.39584498601678, 119.07428571428571, 'gini = 0.0\\nsamples = 3\\nvalue = [3, 0]'),\n",
       " Text(87.74622453056332, 139.78285714285715, 'X[5] <= 5259.5\\ngini = 0.008\\nsamples = 974\\nvalue = [970, 4]'),\n",
       " Text(85.6060727127447, 129.42857142857144, 'X[9] <= 8.5\\ngini = 0.002\\nsamples = 910\\nvalue = [909, 1]'),\n",
       " Text(84.5359968038354, 119.07428571428571, 'X[9] <= 7.5\\ngini = 0.01\\nsamples = 196\\nvalue = [195, 1]'),\n",
       " Text(83.46592089492609, 108.72, 'gini = 0.0\\nsamples = 156\\nvalue = [156, 0]'),\n",
       " Text(85.6060727127447, 108.72, 'X[11] <= 97.5\\ngini = 0.049\\nsamples = 40\\nvalue = [39, 1]'),\n",
       " Text(84.5359968038354, 98.36571428571429, 'X[11] <= 96.5\\ngini = 0.165\\nsamples = 11\\nvalue = [10, 1]'),\n",
       " Text(83.46592089492609, 88.01142857142858, 'gini = 0.0\\nsamples = 10\\nvalue = [10, 0]'),\n",
       " Text(85.6060727127447, 88.01142857142858, 'gini = 0.0\\nsamples = 1\\nvalue = [0, 1]'),\n",
       " Text(86.67614862165401, 98.36571428571429, 'gini = 0.0\\nsamples = 29\\nvalue = [29, 0]'),\n",
       " Text(86.67614862165401, 119.07428571428571, 'gini = 0.0\\nsamples = 714\\nvalue = [714, 0]'),\n",
       " Text(89.88637634838194, 129.42857142857144, 'X[5] <= 5374.5\\ngini = 0.089\\nsamples = 64\\nvalue = [61, 3]'),\n",
       " Text(88.81630043947263, 119.07428571428571, 'gini = 0.0\\nsamples = 1\\nvalue = [0, 1]'),\n",
       " Text(90.95645225729125, 119.07428571428571, 'X[9] <= 5.5\\ngini = 0.061\\nsamples = 63\\nvalue = [61, 2]'),\n",
       " Text(89.88637634838194, 108.72, 'X[0] <= 53.0\\ngini = 0.32\\nsamples = 10\\nvalue = [8, 2]'),\n",
       " Text(88.81630043947263, 98.36571428571429, 'gini = 0.0\\nsamples = 8\\nvalue = [8, 0]'),\n",
       " Text(90.95645225729125, 98.36571428571429, 'gini = 0.0\\nsamples = 2\\nvalue = [0, 2]'),\n",
       " Text(92.02652816620056, 108.72, 'gini = 0.0\\nsamples = 53\\nvalue = [53, 0]'),\n",
       " Text(101.65721134638434, 181.2, 'X[11] <= 180.5\\ngini = 0.359\\nsamples = 47\\nvalue = [36, 11]'),\n",
       " Text(99.51705952856572, 170.84571428571428, 'X[0] <= 86.5\\ngini = 0.198\\nsamples = 36\\nvalue = [32, 4]'),\n",
       " Text(98.44698361965641, 160.49142857142857, 'X[12] <= 1.5\\ngini = 0.157\\nsamples = 35\\nvalue = [32, 3]'),\n",
       " Text(97.3769077107471, 150.13714285714286, 'X[0] <= 75.5\\ngini = 0.305\\nsamples = 16\\nvalue = [13, 3]'),\n",
       " Text(95.23675589292849, 139.78285714285715, 'X[10] <= 3.5\\ngini = 0.153\\nsamples = 12\\nvalue = [11, 1]'),\n",
       " Text(94.16667998401917, 129.42857142857144, 'X[14] <= 0.5\\ngini = 0.444\\nsamples = 3\\nvalue = [2, 1]'),\n",
       " Text(93.09660407510987, 119.07428571428571, 'gini = 0.0\\nsamples = 1\\nvalue = [0, 1]'),\n",
       " Text(95.23675589292849, 119.07428571428571, 'gini = 0.0\\nsamples = 2\\nvalue = [2, 0]'),\n",
       " Text(96.30683180183779, 129.42857142857144, 'gini = 0.0\\nsamples = 9\\nvalue = [9, 0]'),\n",
       " Text(99.51705952856572, 139.78285714285715, 'X[8] <= 0.5\\ngini = 0.5\\nsamples = 4\\nvalue = [2, 2]'),\n",
       " Text(98.44698361965641, 129.42857142857144, 'gini = 0.0\\nsamples = 1\\nvalue = [0, 1]'),\n",
       " Text(100.58713543747503, 129.42857142857144, 'X[9] <= 20.5\\ngini = 0.444\\nsamples = 3\\nvalue = [2, 1]'),\n",
       " Text(99.51705952856572, 119.07428571428571, 'gini = 0.0\\nsamples = 2\\nvalue = [2, 0]'),\n",
       " Text(101.65721134638434, 119.07428571428571, 'gini = 0.0\\nsamples = 1\\nvalue = [0, 1]'),\n",
       " Text(99.51705952856572, 150.13714285714286, 'gini = 0.0\\nsamples = 19\\nvalue = [19, 0]'),\n",
       " Text(100.58713543747503, 160.49142857142857, 'gini = 0.0\\nsamples = 1\\nvalue = [0, 1]'),\n",
       " Text(103.79736316420295, 170.84571428571428, 'X[10] <= 6.0\\ngini = 0.463\\nsamples = 11\\nvalue = [4, 7]'),\n",
       " Text(102.72728725529365, 160.49142857142857, 'gini = 0.0\\nsamples = 6\\nvalue = [0, 6]'),\n",
       " Text(104.86743907311227, 160.49142857142857, 'X[5] <= 41.0\\ngini = 0.32\\nsamples = 5\\nvalue = [4, 1]'),\n",
       " Text(103.79736316420295, 150.13714285714286, 'gini = 0.0\\nsamples = 1\\nvalue = [0, 1]'),\n",
       " Text(105.93751498202157, 150.13714285714286, 'gini = 0.0\\nsamples = 4\\nvalue = [4, 0]'),\n",
       " Text(210.3588713855873, 191.5542857142857, 'X[13] <= 22.5\\ngini = 0.274\\nsamples = 1176\\nvalue = [983, 193]'),\n",
       " Text(180.05098288304035, 181.2, 'X[0] <= 60.5\\ngini = 0.21\\nsamples = 947\\nvalue = [834, 113]'),\n",
       " Text(149.69829017678785, 170.84571428571428, 'X[11] <= 351.5\\ngini = 0.191\\nsamples = 918\\nvalue = [820, 98]'),\n",
       " Text(122.65745105872952, 160.49142857142857, 'X[9] <= 1.5\\ngini = 0.112\\nsamples = 505\\nvalue = [475, 30]'),\n",
       " Text(121.58737514982022, 150.13714285714286, 'gini = 0.0\\nsamples = 2\\nvalue = [0, 2]'),\n",
       " Text(123.72752696763884, 150.13714285714286, 'X[10] <= 4.5\\ngini = 0.105\\nsamples = 503\\nvalue = [475, 28]'),\n",
       " Text(111.42165401518179, 139.78285714285715, 'X[5] <= 1773.0\\ngini = 0.272\\nsamples = 74\\nvalue = [62, 12]'),\n",
       " Text(106.74007191370356, 129.42857142857144, 'X[9] <= 29.5\\ngini = 0.165\\nsamples = 55\\nvalue = [50, 5]'),\n",
       " Text(103.79736316420295, 119.07428571428571, 'X[12] <= 4.0\\ngini = 0.113\\nsamples = 50\\nvalue = [47, 3]'),\n",
       " Text(101.12217339192968, 108.72, 'X[11] <= 229.5\\ngini = 0.081\\nsamples = 47\\nvalue = [45, 2]'),\n",
       " Text(98.98202157411106, 98.36571428571429, 'X[5] <= 98.0\\ngini = 0.375\\nsamples = 4\\nvalue = [3, 1]'),\n",
       " Text(97.91194566520176, 88.01142857142858, 'gini = 0.0\\nsamples = 1\\nvalue = [0, 1]'),\n",
       " Text(100.05209748302038, 88.01142857142858, 'gini = 0.0\\nsamples = 3\\nvalue = [3, 0]'),\n",
       " Text(103.2623252097483, 98.36571428571429, 'X[11] <= 341.5\\ngini = 0.045\\nsamples = 43\\nvalue = [42, 1]'),\n",
       " Text(102.192249300839, 88.01142857142858, 'gini = 0.0\\nsamples = 37\\nvalue = [37, 0]'),\n",
       " Text(104.33240111865761, 88.01142857142858, 'X[9] <= 14.5\\ngini = 0.278\\nsamples = 6\\nvalue = [5, 1]'),\n",
       " Text(103.2623252097483, 77.65714285714284, 'X[10] <= 3.0\\ngini = 0.5\\nsamples = 2\\nvalue = [1, 1]'),\n",
       " Text(102.192249300839, 67.30285714285714, 'gini = 0.0\\nsamples = 1\\nvalue = [1, 0]'),\n",
       " Text(104.33240111865761, 67.30285714285714, 'gini = 0.0\\nsamples = 1\\nvalue = [0, 1]'),\n",
       " Text(105.40247702756692, 77.65714285714284, 'gini = 0.0\\nsamples = 4\\nvalue = [4, 0]'),\n",
       " Text(106.47255293647623, 108.72, 'X[0] <= 36.5\\ngini = 0.444\\nsamples = 3\\nvalue = [2, 1]'),\n",
       " Text(105.40247702756692, 98.36571428571429, 'gini = 0.0\\nsamples = 1\\nvalue = [0, 1]'),\n",
       " Text(107.54262884538554, 98.36571428571429, 'gini = 0.0\\nsamples = 2\\nvalue = [2, 0]'),\n",
       " Text(109.68278066320416, 119.07428571428571, 'X[12] <= 2.0\\ngini = 0.48\\nsamples = 5\\nvalue = [3, 2]'),\n",
       " Text(108.61270475429484, 108.72, 'gini = 0.0\\nsamples = 2\\nvalue = [0, 2]'),\n",
       " Text(110.75285657211346, 108.72, 'gini = 0.0\\nsamples = 3\\nvalue = [3, 0]'),\n",
       " Text(116.10323611666, 129.42857142857144, 'X[9] <= 19.0\\ngini = 0.465\\nsamples = 19\\nvalue = [12, 7]'),\n",
       " Text(113.9630842988414, 119.07428571428571, 'X[10] <= 3.5\\ngini = 0.32\\nsamples = 10\\nvalue = [8, 2]'),\n",
       " Text(112.89300838993208, 108.72, 'X[0] <= 45.0\\ngini = 0.444\\nsamples = 6\\nvalue = [4, 2]'),\n",
       " Text(111.82293248102278, 98.36571428571429, 'X[11] <= 324.0\\ngini = 0.444\\nsamples = 3\\nvalue = [1, 2]'),\n",
       " Text(110.75285657211346, 88.01142857142858, 'gini = 0.0\\nsamples = 2\\nvalue = [0, 2]'),\n",
       " Text(112.89300838993208, 88.01142857142858, 'gini = 0.0\\nsamples = 1\\nvalue = [1, 0]'),\n",
       " Text(113.9630842988414, 98.36571428571429, 'gini = 0.0\\nsamples = 3\\nvalue = [3, 0]'),\n",
       " Text(115.0331602077507, 108.72, 'gini = 0.0\\nsamples = 4\\nvalue = [4, 0]'),\n",
       " Text(118.24338793447862, 119.07428571428571, 'X[10] <= 1.5\\ngini = 0.494\\nsamples = 9\\nvalue = [4, 5]'),\n",
       " Text(117.17331202556932, 108.72, 'gini = 0.0\\nsamples = 3\\nvalue = [3, 0]'),\n",
       " Text(119.31346384338794, 108.72, 'X[12] <= 6.0\\ngini = 0.278\\nsamples = 6\\nvalue = [1, 5]'),\n",
       " Text(118.24338793447862, 98.36571428571429, 'gini = 0.0\\nsamples = 5\\nvalue = [0, 5]'),\n",
       " Text(120.38353975229724, 98.36571428571429, 'gini = 0.0\\nsamples = 1\\nvalue = [1, 0]'),\n",
       " Text(136.0333999200959, 139.78285714285715, 'X[10] <= 8.5\\ngini = 0.072\\nsamples = 429\\nvalue = [413, 16]'),\n",
       " Text(128.14159009188973, 129.42857142857144, 'X[0] <= 22.5\\ngini = 0.041\\nsamples = 384\\nvalue = [376, 8]'),\n",
       " Text(127.07151418298042, 119.07428571428571, 'gini = 0.0\\nsamples = 1\\nvalue = [0, 1]'),\n",
       " Text(129.21166600079903, 119.07428571428571, 'X[11] <= 226.5\\ngini = 0.036\\nsamples = 383\\nvalue = [376, 7]'),\n",
       " Text(123.59376747902517, 108.72, 'X[9] <= 4.0\\ngini = 0.236\\nsamples = 22\\nvalue = [19, 3]'),\n",
       " Text(122.52369157011586, 98.36571428571429, 'gini = 0.0\\nsamples = 1\\nvalue = [0, 1]'),\n",
       " Text(124.66384338793448, 98.36571428571429, 'X[9] <= 23.5\\ngini = 0.172\\nsamples = 21\\nvalue = [19, 2]'),\n",
       " Text(123.59376747902517, 88.01142857142858, 'gini = 0.0\\nsamples = 16\\nvalue = [16, 0]'),\n",
       " Text(125.73391929684378, 88.01142857142858, 'X[5] <= 82.0\\ngini = 0.48\\nsamples = 5\\nvalue = [3, 2]'),\n",
       " Text(124.66384338793448, 77.65714285714284, 'gini = 0.0\\nsamples = 3\\nvalue = [3, 0]'),\n",
       " Text(126.8039952057531, 77.65714285714284, 'gini = 0.0\\nsamples = 2\\nvalue = [0, 2]'),\n",
       " Text(134.82956452257292, 108.72, 'X[5] <= 10078.0\\ngini = 0.022\\nsamples = 361\\nvalue = [357, 4]'),\n",
       " Text(132.15437475029964, 98.36571428571429, 'X[8] <= 0.5\\ngini = 0.017\\nsamples = 357\\nvalue = [354, 3]'),\n",
       " Text(130.01422293248103, 88.01142857142858, 'X[5] <= 2981.0\\ngini = 0.006\\nsamples = 337\\nvalue = [336, 1]'),\n",
       " Text(128.9441470235717, 77.65714285714284, 'gini = 0.0\\nsamples = 305\\nvalue = [305, 0]'),\n",
       " Text(131.08429884139034, 77.65714285714284, 'X[5] <= 3000.5\\ngini = 0.061\\nsamples = 32\\nvalue = [31, 1]'),\n",
       " Text(130.01422293248103, 67.30285714285714, 'gini = 0.0\\nsamples = 1\\nvalue = [0, 1]'),\n",
       " Text(132.15437475029964, 67.30285714285714, 'gini = 0.0\\nsamples = 31\\nvalue = [31, 0]'),\n",
       " Text(134.29452656811824, 88.01142857142858, 'X[11] <= 242.5\\ngini = 0.18\\nsamples = 20\\nvalue = [18, 2]'),\n",
       " Text(133.22445065920894, 77.65714285714284, 'gini = 0.0\\nsamples = 1\\nvalue = [0, 1]'),\n",
       " Text(135.36460247702757, 77.65714285714284, 'X[0] <= 31.5\\ngini = 0.1\\nsamples = 19\\nvalue = [18, 1]'),\n",
       " Text(134.29452656811824, 67.30285714285714, 'X[11] <= 284.0\\ngini = 0.444\\nsamples = 3\\nvalue = [2, 1]'),\n",
       " Text(133.22445065920894, 56.94857142857143, 'gini = 0.0\\nsamples = 1\\nvalue = [0, 1]'),\n",
       " Text(135.36460247702757, 56.94857142857143, 'gini = 0.0\\nsamples = 2\\nvalue = [2, 0]'),\n",
       " Text(136.43467838593688, 67.30285714285714, 'gini = 0.0\\nsamples = 16\\nvalue = [16, 0]'),\n",
       " Text(137.50475429484618, 98.36571428571429, 'X[3] <= 1.5\\ngini = 0.375\\nsamples = 4\\nvalue = [3, 1]'),\n",
       " Text(136.43467838593688, 88.01142857142858, 'gini = 0.0\\nsamples = 1\\nvalue = [0, 1]'),\n",
       " Text(138.57483020375548, 88.01142857142858, 'gini = 0.0\\nsamples = 3\\nvalue = [3, 0]'),\n",
       " Text(143.92520974830202, 129.42857142857144, 'X[9] <= 16.5\\ngini = 0.292\\nsamples = 45\\nvalue = [37, 8]'),\n",
       " Text(141.78505793048342, 119.07428571428571, 'X[3] <= 2.5\\ngini = 0.494\\nsamples = 9\\nvalue = [4, 5]'),\n",
       " Text(140.71498202157412, 108.72, 'X[11] <= 226.5\\ngini = 0.278\\nsamples = 6\\nvalue = [1, 5]'),\n",
       " Text(139.6449061126648, 98.36571428571429, 'gini = 0.0\\nsamples = 1\\nvalue = [1, 0]'),\n",
       " Text(141.78505793048342, 98.36571428571429, 'gini = 0.0\\nsamples = 5\\nvalue = [0, 5]'),\n",
       " Text(142.85513383939272, 108.72, 'gini = 0.0\\nsamples = 3\\nvalue = [3, 0]'),\n",
       " Text(146.06536156612066, 119.07428571428571, 'X[10] <= 10.5\\ngini = 0.153\\nsamples = 36\\nvalue = [33, 3]'),\n",
       " Text(144.99528565721135, 108.72, 'X[5] <= 3.0\\ngini = 0.48\\nsamples = 5\\nvalue = [2, 3]'),\n",
       " Text(143.92520974830202, 98.36571428571429, 'gini = 0.0\\nsamples = 2\\nvalue = [0, 2]'),\n",
       " Text(146.06536156612066, 98.36571428571429, 'X[12] <= 1.5\\ngini = 0.444\\nsamples = 3\\nvalue = [2, 1]'),\n",
       " Text(144.99528565721135, 88.01142857142858, 'gini = 0.0\\nsamples = 2\\nvalue = [2, 0]'),\n",
       " Text(147.13543747502996, 88.01142857142858, 'gini = 0.0\\nsamples = 1\\nvalue = [0, 1]'),\n",
       " Text(147.13543747502996, 108.72, 'gini = 0.0\\nsamples = 31\\nvalue = [31, 0]'),\n",
       " Text(176.73912929484618, 160.49142857142857, 'X[8] <= 0.5\\ngini = 0.275\\nsamples = 413\\nvalue = [345, 68]'),\n",
       " Text(160.68903565721135, 150.13714285714286, 'X[0] <= 25.5\\ngini = 0.263\\nsamples = 404\\nvalue = [341, 63]'),\n",
       " Text(150.3456652017579, 139.78285714285715, 'X[5] <= 862.5\\ngini = 0.5\\nsamples = 10\\nvalue = [5, 5]'),\n",
       " Text(149.2755892928486, 129.42857142857144, 'X[0] <= 22.0\\ngini = 0.278\\nsamples = 6\\nvalue = [1, 5]'),\n",
       " Text(148.20551338393926, 119.07428571428571, 'gini = 0.0\\nsamples = 1\\nvalue = [1, 0]'),\n",
       " Text(150.3456652017579, 119.07428571428571, 'gini = 0.0\\nsamples = 5\\nvalue = [0, 5]'),\n",
       " Text(151.4157411106672, 129.42857142857144, 'gini = 0.0\\nsamples = 4\\nvalue = [4, 0]'),\n",
       " Text(171.0324061126648, 139.78285714285715, 'X[5] <= -189.0\\ngini = 0.251\\nsamples = 394\\nvalue = [336, 58]'),\n",
       " Text(153.5558929284858, 129.42857142857144, 'X[9] <= 20.5\\ngini = 0.463\\nsamples = 22\\nvalue = [14, 8]'),\n",
       " Text(152.4858170195765, 119.07428571428571, 'X[9] <= 11.5\\ngini = 0.49\\nsamples = 14\\nvalue = [6, 8]'),\n",
       " Text(150.3456652017579, 108.72, 'X[5] <= -704.0\\ngini = 0.408\\nsamples = 7\\nvalue = [5, 2]'),\n",
       " Text(149.2755892928486, 98.36571428571429, 'gini = 0.0\\nsamples = 2\\nvalue = [0, 2]'),\n",
       " Text(151.4157411106672, 98.36571428571429, 'gini = 0.0\\nsamples = 5\\nvalue = [5, 0]'),\n",
       " Text(154.62596883739513, 108.72, 'X[10] <= 4.5\\ngini = 0.245\\nsamples = 7\\nvalue = [1, 6]'),\n",
       " Text(153.5558929284858, 98.36571428571429, 'gini = 0.0\\nsamples = 1\\nvalue = [1, 0]'),\n",
       " Text(155.69604474630444, 98.36571428571429, 'gini = 0.0\\nsamples = 6\\nvalue = [0, 6]'),\n",
       " Text(154.62596883739513, 119.07428571428571, 'gini = 0.0\\nsamples = 8\\nvalue = [8, 0]'),\n",
       " Text(188.50891929684377, 129.42857142857144, 'X[7] <= 0.5\\ngini = 0.233\\nsamples = 372\\nvalue = [322, 50]'),\n",
       " Text(176.77988413903316, 119.07428571428571, 'X[6] <= 0.5\\ngini = 0.265\\nsamples = 305\\nvalue = [257, 48]'),\n",
       " Text(164.79168997203357, 108.72, 'X[11] <= 474.5\\ngini = 0.341\\nsamples = 133\\nvalue = [104, 29]'),\n",
       " Text(157.83619656412304, 98.36571428571429, 'X[9] <= 24.5\\ngini = 0.254\\nsamples = 87\\nvalue = [74, 13]'),\n",
       " Text(154.09093088294048, 88.01142857142858, 'X[10] <= 1.5\\ngini = 0.193\\nsamples = 74\\nvalue = [66, 8]'),\n",
       " Text(153.02085497403115, 77.65714285714284, 'gini = 0.0\\nsamples = 1\\nvalue = [0, 1]'),\n",
       " Text(155.1610067918498, 77.65714285714284, 'X[5] <= 1214.0\\ngini = 0.173\\nsamples = 73\\nvalue = [66, 7]'),\n",
       " Text(153.02085497403115, 67.30285714285714, 'X[10] <= 7.5\\ngini = 0.075\\nsamples = 51\\nvalue = [49, 2]'),\n",
       " Text(151.95077906512185, 56.94857142857143, 'gini = 0.0\\nsamples = 34\\nvalue = [34, 0]'),\n",
       " Text(154.09093088294048, 56.94857142857143, 'X[9] <= 11.5\\ngini = 0.208\\nsamples = 17\\nvalue = [15, 2]'),\n",
       " Text(153.02085497403115, 46.59428571428572, 'X[9] <= 7.5\\ngini = 0.48\\nsamples = 5\\nvalue = [3, 2]'),\n",
       " Text(151.95077906512185, 36.24000000000001, 'gini = 0.0\\nsamples = 3\\nvalue = [3, 0]'),\n",
       " Text(154.09093088294048, 36.24000000000001, 'gini = 0.0\\nsamples = 2\\nvalue = [0, 2]'),\n",
       " Text(155.1610067918498, 46.59428571428572, 'gini = 0.0\\nsamples = 12\\nvalue = [12, 0]'),\n",
       " Text(157.3011586096684, 67.30285714285714, 'X[9] <= 3.0\\ngini = 0.351\\nsamples = 22\\nvalue = [17, 5]'),\n",
       " Text(156.2310827007591, 56.94857142857143, 'gini = 0.0\\nsamples = 2\\nvalue = [0, 2]'),\n",
       " Text(158.3712345185777, 56.94857142857143, 'X[5] <= 2112.5\\ngini = 0.255\\nsamples = 20\\nvalue = [17, 3]'),\n",
       " Text(157.3011586096684, 46.59428571428572, 'X[3] <= 2.5\\ngini = 0.49\\nsamples = 7\\nvalue = [4, 3]'),\n",
       " Text(156.2310827007591, 36.24000000000001, 'gini = 0.0\\nsamples = 2\\nvalue = [0, 2]'),\n",
       " Text(158.3712345185777, 36.24000000000001, 'X[11] <= 358.0\\ngini = 0.32\\nsamples = 5\\nvalue = [4, 1]'),\n",
       " Text(157.3011586096684, 25.8857142857143, 'gini = 0.0\\nsamples = 1\\nvalue = [0, 1]'),\n",
       " Text(159.44131042748702, 25.8857142857143, 'gini = 0.0\\nsamples = 4\\nvalue = [4, 0]'),\n",
       " Text(159.44131042748702, 46.59428571428572, 'gini = 0.0\\nsamples = 13\\nvalue = [13, 0]'),\n",
       " Text(161.58146224530563, 88.01142857142858, 'X[12] <= 1.5\\ngini = 0.473\\nsamples = 13\\nvalue = [8, 5]'),\n",
       " Text(160.51138633639633, 77.65714285714284, 'gini = 0.0\\nsamples = 1\\nvalue = [0, 1]'),\n",
       " Text(162.65153815421493, 77.65714285714284, 'X[0] <= 32.0\\ngini = 0.444\\nsamples = 12\\nvalue = [8, 4]'),\n",
       " Text(161.58146224530563, 67.30285714285714, 'gini = 0.0\\nsamples = 4\\nvalue = [4, 0]'),\n",
       " Text(163.72161406312424, 67.30285714285714, 'X[12] <= 5.0\\ngini = 0.5\\nsamples = 8\\nvalue = [4, 4]'),\n",
       " Text(162.65153815421493, 56.94857142857143, 'X[5] <= 1748.0\\ngini = 0.444\\nsamples = 6\\nvalue = [4, 2]'),\n",
       " Text(161.58146224530563, 46.59428571428572, 'gini = 0.0\\nsamples = 4\\nvalue = [4, 0]'),\n",
       " Text(163.72161406312424, 46.59428571428572, 'gini = 0.0\\nsamples = 2\\nvalue = [0, 2]'),\n",
       " Text(164.79168997203357, 56.94857142857143, 'gini = 0.0\\nsamples = 2\\nvalue = [0, 2]'),\n",
       " Text(171.74718337994406, 98.36571428571429, 'X[9] <= 15.0\\ngini = 0.454\\nsamples = 46\\nvalue = [30, 16]'),\n",
       " Text(169.0719936076708, 88.01142857142858, 'X[11] <= 502.5\\ngini = 0.499\\nsamples = 21\\nvalue = [10, 11]'),\n",
       " Text(168.00191769876147, 77.65714285714284, 'gini = 0.0\\nsamples = 4\\nvalue = [0, 4]'),\n",
       " Text(170.1420695165801, 77.65714285714284, 'X[11] <= 546.5\\ngini = 0.484\\nsamples = 17\\nvalue = [10, 7]'),\n",
       " Text(168.00191769876147, 67.30285714285714, 'X[12] <= 2.5\\ngini = 0.298\\nsamples = 11\\nvalue = [9, 2]'),\n",
       " Text(166.93184178985217, 56.94857142857143, 'X[9] <= 13.5\\ngini = 0.18\\nsamples = 10\\nvalue = [9, 1]'),\n",
       " Text(165.86176588094287, 46.59428571428572, 'gini = 0.0\\nsamples = 8\\nvalue = [8, 0]'),\n",
       " Text(168.00191769876147, 46.59428571428572, 'X[3] <= 1.5\\ngini = 0.5\\nsamples = 2\\nvalue = [1, 1]'),\n",
       " Text(166.93184178985217, 36.24000000000001, 'gini = 0.0\\nsamples = 1\\nvalue = [0, 1]'),\n",
       " Text(169.0719936076708, 36.24000000000001, 'gini = 0.0\\nsamples = 1\\nvalue = [1, 0]'),\n",
       " Text(169.0719936076708, 56.94857142857143, 'gini = 0.0\\nsamples = 1\\nvalue = [0, 1]'),\n",
       " Text(172.2822213343987, 67.30285714285714, 'X[0] <= 31.5\\ngini = 0.278\\nsamples = 6\\nvalue = [1, 5]'),\n",
       " Text(171.2121454254894, 56.94857142857143, 'gini = 0.0\\nsamples = 1\\nvalue = [1, 0]'),\n",
       " Text(173.35229724330802, 56.94857142857143, 'gini = 0.0\\nsamples = 5\\nvalue = [0, 5]'),\n",
       " Text(174.42237315221735, 88.01142857142858, 'X[11] <= 479.5\\ngini = 0.32\\nsamples = 25\\nvalue = [20, 5]'),\n",
       " Text(173.35229724330802, 77.65714285714284, 'gini = 0.0\\nsamples = 1\\nvalue = [0, 1]'),\n",
       " Text(175.49244906112665, 77.65714285714284, 'X[10] <= 7.5\\ngini = 0.278\\nsamples = 24\\nvalue = [20, 4]'),\n",
       " Text(174.42237315221735, 67.30285714285714, 'gini = 0.0\\nsamples = 12\\nvalue = [12, 0]'),\n",
       " Text(176.56252497003595, 67.30285714285714, 'X[0] <= 32.5\\ngini = 0.444\\nsamples = 12\\nvalue = [8, 4]'),\n",
       " Text(175.49244906112665, 56.94857142857143, 'gini = 0.0\\nsamples = 2\\nvalue = [0, 2]'),\n",
       " Text(177.63260087894525, 56.94857142857143, 'X[11] <= 542.5\\ngini = 0.32\\nsamples = 10\\nvalue = [8, 2]'),\n",
       " Text(176.56252497003595, 46.59428571428572, 'X[11] <= 496.0\\ngini = 0.444\\nsamples = 3\\nvalue = [1, 2]'),\n",
       " Text(175.49244906112665, 36.24000000000001, 'gini = 0.0\\nsamples = 1\\nvalue = [1, 0]'),\n",
       " Text(177.63260087894525, 36.24000000000001, 'gini = 0.0\\nsamples = 2\\nvalue = [0, 2]'),\n",
       " Text(178.70267678785459, 46.59428571428572, 'gini = 0.0\\nsamples = 7\\nvalue = [7, 0]'),\n",
       " Text(188.76807830603275, 108.72, 'X[11] <= 353.5\\ngini = 0.197\\nsamples = 172\\nvalue = [153, 19]'),\n",
       " Text(184.58809428685578, 98.36571428571429, 'X[9] <= 11.0\\ngini = 0.5\\nsamples = 6\\nvalue = [3, 3]'),\n",
       " Text(183.51801837794648, 88.01142857142858, 'gini = 0.0\\nsamples = 3\\nvalue = [0, 3]'),\n",
       " Text(185.65817019576508, 88.01142857142858, 'gini = 0.0\\nsamples = 3\\nvalue = [3, 0]'),\n",
       " Text(192.94806232520975, 98.36571428571429, 'X[11] <= 440.5\\ngini = 0.174\\nsamples = 166\\nvalue = [150, 16]'),\n",
       " Text(187.7983220135837, 88.01142857142858, 'X[4] <= 0.5\\ngini = 0.074\\nsamples = 78\\nvalue = [75, 3]'),\n",
       " Text(185.12313224131043, 77.65714285714284, 'X[0] <= 52.5\\ngini = 0.051\\nsamples = 76\\nvalue = [74, 2]'),\n",
       " Text(182.9829804234918, 67.30285714285714, 'X[0] <= 28.5\\ngini = 0.027\\nsamples = 72\\nvalue = [71, 1]'),\n",
       " Text(181.9129045145825, 56.94857142857143, 'X[9] <= 10.0\\ngini = 0.18\\nsamples = 10\\nvalue = [9, 1]'),\n",
       " Text(180.8428286056732, 46.59428571428572, 'X[11] <= 365.0\\ngini = 0.5\\nsamples = 2\\nvalue = [1, 1]'),\n",
       " Text(179.7727526967639, 36.24000000000001, 'gini = 0.0\\nsamples = 1\\nvalue = [1, 0]'),\n",
       " Text(181.9129045145825, 36.24000000000001, 'gini = 0.0\\nsamples = 1\\nvalue = [0, 1]'),\n",
       " Text(182.9829804234918, 46.59428571428572, 'gini = 0.0\\nsamples = 8\\nvalue = [8, 0]'),\n",
       " Text(184.05305633240113, 56.94857142857143, 'gini = 0.0\\nsamples = 62\\nvalue = [62, 0]'),\n",
       " Text(187.26328405912903, 67.30285714285714, 'X[10] <= 4.5\\ngini = 0.375\\nsamples = 4\\nvalue = [3, 1]'),\n",
       " Text(186.19320815021973, 56.94857142857143, 'gini = 0.0\\nsamples = 1\\nvalue = [0, 1]'),\n",
       " Text(188.33335996803834, 56.94857142857143, 'gini = 0.0\\nsamples = 3\\nvalue = [3, 0]'),\n",
       " Text(190.47351178585697, 77.65714285714284, 'X[9] <= 13.0\\ngini = 0.5\\nsamples = 2\\nvalue = [1, 1]'),\n",
       " Text(189.40343587694767, 67.30285714285714, 'gini = 0.0\\nsamples = 1\\nvalue = [1, 0]'),\n",
       " Text(191.54358769476627, 67.30285714285714, 'gini = 0.0\\nsamples = 1\\nvalue = [0, 1]'),\n",
       " Text(198.09780263683578, 88.01142857142858, 'X[3] <= 2.5\\ngini = 0.252\\nsamples = 88\\nvalue = [75, 13]'),\n",
       " Text(194.7538154214942, 77.65714285714284, 'X[9] <= 30.5\\ngini = 0.157\\nsamples = 70\\nvalue = [64, 6]'),\n",
       " Text(193.6837395125849, 67.30285714285714, 'X[0] <= 27.5\\ngini = 0.134\\nsamples = 69\\nvalue = [64, 5]'),\n",
       " Text(190.7410307630843, 56.94857142857143, 'X[9] <= 25.0\\ngini = 0.444\\nsamples = 6\\nvalue = [4, 2]'),\n",
       " Text(189.670954854175, 46.59428571428572, 'gini = 0.0\\nsamples = 4\\nvalue = [4, 0]'),\n",
       " Text(191.8111066719936, 46.59428571428572, 'gini = 0.0\\nsamples = 2\\nvalue = [0, 2]'),\n",
       " Text(196.6264482620855, 56.94857142857143, 'X[11] <= 446.5\\ngini = 0.091\\nsamples = 63\\nvalue = [60, 3]'),\n",
       " Text(193.95125848981223, 46.59428571428572, 'X[10] <= 4.5\\ngini = 0.5\\nsamples = 2\\nvalue = [1, 1]'),\n",
       " Text(192.8811825809029, 36.24000000000001, 'gini = 0.0\\nsamples = 1\\nvalue = [1, 0]'),\n",
       " Text(195.02133439872154, 36.24000000000001, 'gini = 0.0\\nsamples = 1\\nvalue = [0, 1]'),\n",
       " Text(199.30163803435877, 46.59428571428572, 'X[9] <= 2.5\\ngini = 0.063\\nsamples = 61\\nvalue = [59, 2]'),\n",
       " Text(197.16148621654014, 36.24000000000001, 'X[9] <= 1.5\\ngini = 0.5\\nsamples = 2\\nvalue = [1, 1]'),\n",
       " Text(196.09141030763084, 25.8857142857143, 'gini = 0.0\\nsamples = 1\\nvalue = [1, 0]'),\n",
       " Text(198.23156212544947, 25.8857142857143, 'gini = 0.0\\nsamples = 1\\nvalue = [0, 1]'),\n",
       " Text(201.44178985217738, 36.24000000000001, 'X[9] <= 24.0\\ngini = 0.033\\nsamples = 59\\nvalue = [58, 1]'),\n",
       " Text(200.37171394326808, 25.8857142857143, 'gini = 0.0\\nsamples = 46\\nvalue = [46, 0]'),\n",
       " Text(202.51186576108668, 25.8857142857143, 'X[9] <= 26.5\\ngini = 0.142\\nsamples = 13\\nvalue = [12, 1]'),\n",
       " Text(201.44178985217738, 15.531428571428563, 'X[11] <= 567.5\\ngini = 0.5\\nsamples = 2\\nvalue = [1, 1]'),\n",
       " Text(200.37171394326808, 5.177142857142854, 'gini = 0.0\\nsamples = 1\\nvalue = [0, 1]'),\n",
       " Text(202.51186576108668, 5.177142857142854, 'gini = 0.0\\nsamples = 1\\nvalue = [1, 0]'),\n",
       " Text(203.581941669996, 15.531428571428563, 'gini = 0.0\\nsamples = 11\\nvalue = [11, 0]'),\n",
       " Text(195.8238913304035, 67.30285714285714, 'gini = 0.0\\nsamples = 1\\nvalue = [0, 1]'),\n",
       " Text(201.44178985217738, 77.65714285714284, 'X[9] <= 8.0\\ngini = 0.475\\nsamples = 18\\nvalue = [11, 7]'),\n",
       " Text(200.37171394326808, 67.30285714285714, 'gini = 0.0\\nsamples = 2\\nvalue = [0, 2]'),\n",
       " Text(202.51186576108668, 67.30285714285714, 'X[0] <= 32.5\\ngini = 0.43\\nsamples = 16\\nvalue = [11, 5]'),\n",
       " Text(201.44178985217738, 56.94857142857143, 'gini = 0.0\\nsamples = 4\\nvalue = [4, 0]'),\n",
       " Text(203.581941669996, 56.94857142857143, 'X[0] <= 33.5\\ngini = 0.486\\nsamples = 12\\nvalue = [7, 5]'),\n",
       " Text(202.51186576108668, 46.59428571428572, 'gini = 0.0\\nsamples = 2\\nvalue = [0, 2]'),\n",
       " Text(204.65201757890532, 46.59428571428572, 'X[11] <= 453.0\\ngini = 0.42\\nsamples = 10\\nvalue = [7, 3]'),\n",
       " Text(203.581941669996, 36.24000000000001, 'gini = 0.0\\nsamples = 1\\nvalue = [0, 1]'),\n",
       " Text(205.72209348781462, 36.24000000000001, 'X[5] <= 1899.0\\ngini = 0.346\\nsamples = 9\\nvalue = [7, 2]'),\n",
       " Text(204.65201757890532, 25.8857142857143, 'gini = 0.0\\nsamples = 5\\nvalue = [5, 0]'),\n",
       " Text(206.79216939672392, 25.8857142857143, 'X[11] <= 467.0\\ngini = 0.5\\nsamples = 4\\nvalue = [2, 2]'),\n",
       " Text(205.72209348781462, 15.531428571428563, 'gini = 0.0\\nsamples = 2\\nvalue = [2, 0]'),\n",
       " Text(207.86224530563322, 15.531428571428563, 'gini = 0.0\\nsamples = 2\\nvalue = [0, 2]'),\n",
       " Text(200.2379544546544, 119.07428571428571, 'X[11] <= 359.5\\ngini = 0.058\\nsamples = 67\\nvalue = [65, 2]'),\n",
       " Text(198.09780263683578, 108.72, 'X[5] <= 2845.5\\ngini = 0.5\\nsamples = 2\\nvalue = [1, 1]'),\n",
       " Text(197.02772672792648, 98.36571428571429, 'gini = 0.0\\nsamples = 1\\nvalue = [0, 1]'),\n",
       " Text(199.1678785457451, 98.36571428571429, 'gini = 0.0\\nsamples = 1\\nvalue = [1, 0]'),\n",
       " Text(202.37810627247302, 108.72, 'X[0] <= 29.5\\ngini = 0.03\\nsamples = 65\\nvalue = [64, 1]'),\n",
       " Text(201.30803036356372, 98.36571428571429, 'X[5] <= -10.0\\ngini = 0.375\\nsamples = 4\\nvalue = [3, 1]'),\n",
       " Text(200.2379544546544, 88.01142857142858, 'gini = 0.0\\nsamples = 1\\nvalue = [0, 1]'),\n",
       " Text(202.37810627247302, 88.01142857142858, 'gini = 0.0\\nsamples = 3\\nvalue = [3, 0]'),\n",
       " Text(203.44818218138235, 98.36571428571429, 'gini = 0.0\\nsamples = 61\\nvalue = [61, 0]'),\n",
       " Text(192.789222932481, 150.13714285714286, 'X[6] <= 0.5\\ngini = 0.494\\nsamples = 9\\nvalue = [4, 5]'),\n",
       " Text(191.7191470235717, 139.78285714285715, 'X[11] <= 510.0\\ngini = 0.278\\nsamples = 6\\nvalue = [1, 5]'),\n",
       " Text(190.6490711146624, 129.42857142857144, 'gini = 0.0\\nsamples = 5\\nvalue = [0, 5]'),\n",
       " Text(192.789222932481, 129.42857142857144, 'gini = 0.0\\nsamples = 1\\nvalue = [1, 0]'),\n",
       " Text(193.85929884139034, 139.78285714285715, 'gini = 0.0\\nsamples = 3\\nvalue = [3, 0]'),\n",
       " Text(210.40367558929285, 170.84571428571428, 'X[9] <= 16.5\\ngini = 0.499\\nsamples = 29\\nvalue = [14, 15]'),\n",
       " Text(207.72848581701956, 160.49142857142857, 'X[3] <= 2.5\\ngini = 0.444\\nsamples = 18\\nvalue = [12, 6]'),\n",
       " Text(205.58833399920096, 150.13714285714286, 'X[5] <= 14747.0\\ngini = 0.26\\nsamples = 13\\nvalue = [11, 2]'),\n",
       " Text(204.51825809029165, 139.78285714285715, 'X[0] <= 64.0\\ngini = 0.153\\nsamples = 12\\nvalue = [11, 1]'),\n",
       " Text(203.44818218138235, 129.42857142857144, 'X[5] <= 1480.5\\ngini = 0.444\\nsamples = 3\\nvalue = [2, 1]'),\n",
       " Text(202.37810627247302, 119.07428571428571, 'gini = 0.0\\nsamples = 2\\nvalue = [2, 0]'),\n",
       " Text(204.51825809029165, 119.07428571428571, 'gini = 0.0\\nsamples = 1\\nvalue = [0, 1]'),\n",
       " Text(205.58833399920096, 129.42857142857144, 'gini = 0.0\\nsamples = 9\\nvalue = [9, 0]'),\n",
       " Text(206.65840990811026, 139.78285714285715, 'gini = 0.0\\nsamples = 1\\nvalue = [0, 1]'),\n",
       " Text(209.8686376348382, 150.13714285714286, 'X[10] <= 7.5\\ngini = 0.32\\nsamples = 5\\nvalue = [1, 4]'),\n",
       " Text(208.7985617259289, 139.78285714285715, 'gini = 0.0\\nsamples = 1\\nvalue = [1, 0]'),\n",
       " Text(210.9387135437475, 139.78285714285715, 'gini = 0.0\\nsamples = 4\\nvalue = [0, 4]'),\n",
       " Text(213.07886536156613, 160.49142857142857, 'X[5] <= 4305.0\\ngini = 0.298\\nsamples = 11\\nvalue = [2, 9]'),\n",
       " Text(212.0087894526568, 150.13714285714286, 'gini = 0.0\\nsamples = 8\\nvalue = [0, 8]'),\n",
       " Text(214.14894127047543, 150.13714285714286, 'X[0] <= 64.0\\ngini = 0.444\\nsamples = 3\\nvalue = [2, 1]'),\n",
       " Text(213.07886536156613, 139.78285714285715, 'gini = 0.0\\nsamples = 1\\nvalue = [0, 1]'),\n",
       " Text(215.21901717938474, 139.78285714285715, 'gini = 0.0\\nsamples = 2\\nvalue = [2, 0]'),\n",
       " Text(240.66675988813424, 181.2, 'X[10] <= 5.5\\ngini = 0.455\\nsamples = 229\\nvalue = [149, 80]'),\n",
       " Text(228.92936476228525, 170.84571428571428, 'X[13] <= 276.5\\ngini = 0.325\\nsamples = 137\\nvalue = [109, 28]'),\n",
       " Text(223.37834598481822, 160.49142857142857, 'X[5] <= 4032.0\\ngini = 0.444\\nsamples = 66\\nvalue = [44, 22]'),\n",
       " Text(220.30187774670395, 150.13714285714286, 'X[15] <= 1.5\\ngini = 0.392\\nsamples = 56\\nvalue = [41, 15]'),\n",
       " Text(217.35916899720334, 139.78285714285715, 'X[15] <= 0.5\\ngini = 0.444\\nsamples = 42\\nvalue = [28, 14]'),\n",
       " Text(214.68397922493008, 129.42857142857144, 'X[5] <= 1825.5\\ngini = 0.36\\nsamples = 34\\nvalue = [26, 8]'),\n",
       " Text(212.54382740711145, 119.07428571428571, 'X[13] <= 177.0\\ngini = 0.285\\nsamples = 29\\nvalue = [24, 5]'),\n",
       " Text(211.47375149820215, 108.72, 'gini = 0.0\\nsamples = 15\\nvalue = [15, 0]'),\n",
       " Text(213.61390331602078, 108.72, 'X[11] <= 413.0\\ngini = 0.459\\nsamples = 14\\nvalue = [9, 5]'),\n",
       " Text(212.54382740711145, 98.36571428571429, 'X[13] <= 183.5\\ngini = 0.375\\nsamples = 12\\nvalue = [9, 3]'),\n",
       " Text(211.47375149820215, 88.01142857142858, 'X[0] <= 50.0\\ngini = 0.375\\nsamples = 4\\nvalue = [1, 3]'),\n",
       " Text(210.40367558929285, 77.65714285714284, 'gini = 0.0\\nsamples = 3\\nvalue = [0, 3]'),\n",
       " Text(212.54382740711145, 77.65714285714284, 'gini = 0.0\\nsamples = 1\\nvalue = [1, 0]'),\n",
       " Text(213.61390331602078, 88.01142857142858, 'gini = 0.0\\nsamples = 8\\nvalue = [8, 0]'),\n",
       " Text(214.68397922493008, 98.36571428571429, 'gini = 0.0\\nsamples = 2\\nvalue = [0, 2]'),\n",
       " Text(216.8241310427487, 119.07428571428571, 'X[11] <= 467.5\\ngini = 0.48\\nsamples = 5\\nvalue = [2, 3]'),\n",
       " Text(215.7540551338394, 108.72, 'gini = 0.0\\nsamples = 3\\nvalue = [0, 3]'),\n",
       " Text(217.89420695165802, 108.72, 'gini = 0.0\\nsamples = 2\\nvalue = [2, 0]'),\n",
       " Text(220.03435876947663, 129.42857142857144, 'X[9] <= 7.5\\ngini = 0.375\\nsamples = 8\\nvalue = [2, 6]'),\n",
       " Text(218.96428286056732, 119.07428571428571, 'gini = 0.0\\nsamples = 1\\nvalue = [1, 0]'),\n",
       " Text(221.10443467838593, 119.07428571428571, 'X[5] <= 2428.0\\ngini = 0.245\\nsamples = 7\\nvalue = [1, 6]'),\n",
       " Text(220.03435876947663, 108.72, 'gini = 0.0\\nsamples = 6\\nvalue = [0, 6]'),\n",
       " Text(222.17451058729523, 108.72, 'gini = 0.0\\nsamples = 1\\nvalue = [1, 0]'),\n",
       " Text(223.24458649620456, 139.78285714285715, 'X[5] <= 5.5\\ngini = 0.133\\nsamples = 14\\nvalue = [13, 1]'),\n",
       " Text(222.17451058729523, 129.42857142857144, 'gini = 0.0\\nsamples = 1\\nvalue = [0, 1]'),\n",
       " Text(224.31466240511386, 129.42857142857144, 'gini = 0.0\\nsamples = 13\\nvalue = [13, 0]'),\n",
       " Text(226.45481422293247, 150.13714285714286, 'X[15] <= 0.5\\ngini = 0.42\\nsamples = 10\\nvalue = [3, 7]'),\n",
       " Text(225.38473831402317, 139.78285714285715, 'gini = 0.0\\nsamples = 3\\nvalue = [3, 0]'),\n",
       " Text(227.5248901318418, 139.78285714285715, 'gini = 0.0\\nsamples = 7\\nvalue = [0, 7]'),\n",
       " Text(234.4803835397523, 160.49142857142857, 'X[12] <= 3.5\\ngini = 0.155\\nsamples = 71\\nvalue = [65, 6]'),\n",
       " Text(230.7351178585697, 150.13714285714286, 'X[14] <= 2.5\\ngini = 0.061\\nsamples = 64\\nvalue = [62, 2]'),\n",
       " Text(229.6650419496604, 139.78285714285715, 'gini = 0.0\\nsamples = 41\\nvalue = [41, 0]'),\n",
       " Text(231.805193767479, 139.78285714285715, 'X[3] <= 1.5\\ngini = 0.159\\nsamples = 23\\nvalue = [21, 2]'),\n",
       " Text(229.6650419496604, 129.42857142857144, 'X[11] <= 281.0\\ngini = 0.444\\nsamples = 3\\nvalue = [2, 1]'),\n",
       " Text(228.5949660407511, 119.07428571428571, 'gini = 0.0\\nsamples = 2\\nvalue = [2, 0]'),\n",
       " Text(230.7351178585697, 119.07428571428571, 'gini = 0.0\\nsamples = 1\\nvalue = [0, 1]'),\n",
       " Text(233.94534558529764, 129.42857142857144, 'X[13] <= 360.0\\ngini = 0.095\\nsamples = 20\\nvalue = [19, 1]'),\n",
       " Text(232.87526967638834, 119.07428571428571, 'gini = 0.0\\nsamples = 17\\nvalue = [17, 0]'),\n",
       " Text(235.01542149420695, 119.07428571428571, 'X[0] <= 38.5\\ngini = 0.444\\nsamples = 3\\nvalue = [2, 1]'),\n",
       " Text(233.94534558529764, 108.72, 'gini = 0.0\\nsamples = 2\\nvalue = [2, 0]'),\n",
       " Text(236.08549740311625, 108.72, 'gini = 0.0\\nsamples = 1\\nvalue = [0, 1]'),\n",
       " Text(238.22564922093488, 150.13714285714286, 'X[13] <= 349.0\\ngini = 0.49\\nsamples = 7\\nvalue = [3, 4]'),\n",
       " Text(237.15557331202555, 139.78285714285715, 'X[5] <= -121.0\\ngini = 0.375\\nsamples = 4\\nvalue = [3, 1]'),\n",
       " Text(236.08549740311625, 129.42857142857144, 'gini = 0.0\\nsamples = 1\\nvalue = [0, 1]'),\n",
       " Text(238.22564922093488, 129.42857142857144, 'gini = 0.0\\nsamples = 3\\nvalue = [3, 0]'),\n",
       " Text(239.2957251298442, 139.78285714285715, 'gini = 0.0\\nsamples = 3\\nvalue = [0, 3]'),\n",
       " Text(252.40415501398323, 170.84571428571428, 'X[10] <= 10.5\\ngini = 0.491\\nsamples = 92\\nvalue = [40, 52]'),\n",
       " Text(248.39137035557332, 160.49142857142857, 'X[13] <= 350.5\\ngini = 0.383\\nsamples = 62\\nvalue = [16, 46]'),\n",
       " Text(247.321294446664, 150.13714285714286, 'X[13] <= 187.5\\ngini = 0.431\\nsamples = 51\\nvalue = [16, 35]'),\n",
       " Text(243.57602876548142, 139.78285714285715, 'X[13] <= 138.5\\ngini = 0.357\\nsamples = 43\\nvalue = [10, 33]'),\n",
       " Text(241.4358769476628, 129.42857142857144, 'X[13] <= 115.5\\ngini = 0.463\\nsamples = 22\\nvalue = [8, 14]'),\n",
       " Text(240.3658010387535, 119.07428571428571, 'X[3] <= 2.5\\ngini = 0.42\\nsamples = 20\\nvalue = [6, 14]'),\n",
       " Text(238.22564922093488, 108.72, 'X[9] <= 29.0\\ngini = 0.26\\nsamples = 13\\nvalue = [2, 11]'),\n",
       " Text(237.15557331202555, 98.36571428571429, 'X[5] <= 4441.5\\ngini = 0.153\\nsamples = 12\\nvalue = [1, 11]'),\n",
       " Text(236.08549740311625, 88.01142857142858, 'gini = 0.0\\nsamples = 11\\nvalue = [0, 11]'),\n",
       " Text(238.22564922093488, 88.01142857142858, 'gini = 0.0\\nsamples = 1\\nvalue = [1, 0]'),\n",
       " Text(239.2957251298442, 98.36571428571429, 'gini = 0.0\\nsamples = 1\\nvalue = [1, 0]'),\n",
       " Text(242.50595285657212, 108.72, 'X[0] <= 34.5\\ngini = 0.49\\nsamples = 7\\nvalue = [4, 3]'),\n",
       " Text(241.4358769476628, 98.36571428571429, 'gini = 0.0\\nsamples = 3\\nvalue = [0, 3]'),\n",
       " Text(243.57602876548142, 98.36571428571429, 'gini = 0.0\\nsamples = 4\\nvalue = [4, 0]'),\n",
       " Text(242.50595285657212, 119.07428571428571, 'gini = 0.0\\nsamples = 2\\nvalue = [2, 0]'),\n",
       " Text(245.71618058330003, 129.42857142857144, 'X[0] <= 63.5\\ngini = 0.172\\nsamples = 21\\nvalue = [2, 19]'),\n",
       " Text(244.64610467439073, 119.07428571428571, 'gini = 0.0\\nsamples = 17\\nvalue = [0, 17]'),\n",
       " Text(246.78625649220933, 119.07428571428571, 'X[12] <= 1.5\\ngini = 0.5\\nsamples = 4\\nvalue = [2, 2]'),\n",
       " Text(245.71618058330003, 108.72, 'gini = 0.0\\nsamples = 2\\nvalue = [0, 2]'),\n",
       " Text(247.85633240111866, 108.72, 'gini = 0.0\\nsamples = 2\\nvalue = [2, 0]'),\n",
       " Text(251.06656012784657, 139.78285714285715, 'X[0] <= 34.0\\ngini = 0.375\\nsamples = 8\\nvalue = [6, 2]'),\n",
       " Text(249.99648421893727, 129.42857142857144, 'X[10] <= 7.5\\ngini = 0.444\\nsamples = 3\\nvalue = [1, 2]'),\n",
       " Text(248.92640831002797, 119.07428571428571, 'gini = 0.0\\nsamples = 1\\nvalue = [1, 0]'),\n",
       " Text(251.06656012784657, 119.07428571428571, 'gini = 0.0\\nsamples = 2\\nvalue = [0, 2]'),\n",
       " Text(252.1366360367559, 129.42857142857144, 'gini = 0.0\\nsamples = 5\\nvalue = [5, 0]'),\n",
       " Text(249.46144626448262, 150.13714285714286, 'gini = 0.0\\nsamples = 11\\nvalue = [0, 11]'),\n",
       " Text(256.41693967239314, 160.49142857142857, 'X[13] <= 100.0\\ngini = 0.32\\nsamples = 30\\nvalue = [24, 6]'),\n",
       " Text(254.2767878545745, 150.13714285714286, 'X[15] <= 0.5\\ngini = 0.408\\nsamples = 7\\nvalue = [2, 5]'),\n",
       " Text(253.2067119456652, 139.78285714285715, 'gini = 0.0\\nsamples = 2\\nvalue = [2, 0]'),\n",
       " Text(255.3468637634838, 139.78285714285715, 'gini = 0.0\\nsamples = 5\\nvalue = [0, 5]'),\n",
       " Text(258.55709149021175, 150.13714285714286, 'X[0] <= 30.5\\ngini = 0.083\\nsamples = 23\\nvalue = [22, 1]'),\n",
       " Text(257.48701558130244, 139.78285714285715, 'X[11] <= 351.0\\ngini = 0.5\\nsamples = 2\\nvalue = [1, 1]'),\n",
       " Text(256.41693967239314, 129.42857142857144, 'gini = 0.0\\nsamples = 1\\nvalue = [1, 0]'),\n",
       " Text(258.55709149021175, 129.42857142857144, 'gini = 0.0\\nsamples = 1\\nvalue = [0, 1]'),\n",
       " Text(259.62716739912105, 139.78285714285715, 'gini = 0.0\\nsamples = 21\\nvalue = [21, 0]'),\n",
       " Text(300.7582101478226, 201.90857142857143, 'X[11] <= 766.5\\ngini = 0.498\\nsamples = 299\\nvalue = [158, 141]'),\n",
       " Text(279.42357171394326, 191.5542857142857, 'X[13] <= 235.0\\ngini = 0.464\\nsamples = 123\\nvalue = [78, 45]'),\n",
       " Text(278.35349580503396, 181.2, 'X[5] <= 1253.0\\ngini = 0.448\\nsamples = 118\\nvalue = [78, 40]'),\n",
       " Text(270.32792648821413, 170.84571428571428, 'X[11] <= 655.0\\ngini = 0.375\\nsamples = 80\\nvalue = [60, 20]'),\n",
       " Text(264.9775469436676, 160.49142857142857, 'X[10] <= 6.5\\ngini = 0.499\\nsamples = 19\\nvalue = [10, 9]'),\n",
       " Text(262.83739512584896, 150.13714285714286, 'X[0] <= 53.5\\ngini = 0.397\\nsamples = 11\\nvalue = [8, 3]'),\n",
       " Text(261.76731921693965, 139.78285714285715, 'X[15] <= 2.0\\ngini = 0.198\\nsamples = 9\\nvalue = [8, 1]'),\n",
       " Text(260.69724330803035, 129.42857142857144, 'gini = 0.0\\nsamples = 1\\nvalue = [0, 1]'),\n",
       " Text(262.83739512584896, 129.42857142857144, 'gini = 0.0\\nsamples = 8\\nvalue = [8, 0]'),\n",
       " Text(263.90747103475826, 139.78285714285715, 'gini = 0.0\\nsamples = 2\\nvalue = [0, 2]'),\n",
       " Text(267.1176987614862, 150.13714285714286, 'X[0] <= 42.5\\ngini = 0.375\\nsamples = 8\\nvalue = [2, 6]'),\n",
       " Text(266.0476228525769, 139.78285714285715, 'gini = 0.0\\nsamples = 5\\nvalue = [0, 5]'),\n",
       " Text(268.1877746703955, 139.78285714285715, 'X[6] <= 0.5\\ngini = 0.444\\nsamples = 3\\nvalue = [2, 1]'),\n",
       " Text(267.1176987614862, 129.42857142857144, 'gini = 0.0\\nsamples = 2\\nvalue = [2, 0]'),\n",
       " Text(269.25785057930483, 129.42857142857144, 'gini = 0.0\\nsamples = 1\\nvalue = [0, 1]'),\n",
       " Text(275.6783060327607, 160.49142857142857, 'X[0] <= 51.5\\ngini = 0.296\\nsamples = 61\\nvalue = [50, 11]'),\n",
       " Text(273.53815421494204, 150.13714285714286, 'X[12] <= 10.0\\ngini = 0.211\\nsamples = 50\\nvalue = [44, 6]'),\n",
       " Text(272.46807830603274, 139.78285714285715, 'X[0] <= 37.0\\ngini = 0.183\\nsamples = 49\\nvalue = [44, 5]'),\n",
       " Text(271.39800239712343, 129.42857142857144, 'X[13] <= 72.5\\ngini = 0.302\\nsamples = 27\\nvalue = [22, 5]'),\n",
       " Text(270.32792648821413, 119.07428571428571, 'X[0] <= 35.5\\ngini = 0.26\\nsamples = 26\\nvalue = [22, 4]'),\n",
       " Text(269.25785057930483, 108.72, 'X[11] <= 756.5\\ngini = 0.211\\nsamples = 25\\nvalue = [22, 3]'),\n",
       " Text(267.1176987614862, 98.36571428571429, 'X[11] <= 692.0\\ngini = 0.159\\nsamples = 23\\nvalue = [21, 2]'),\n",
       " Text(266.0476228525769, 88.01142857142858, 'X[11] <= 681.0\\ngini = 0.375\\nsamples = 8\\nvalue = [6, 2]'),\n",
       " Text(264.9775469436676, 77.65714285714284, 'gini = 0.0\\nsamples = 6\\nvalue = [6, 0]'),\n",
       " Text(267.1176987614862, 77.65714285714284, 'gini = 0.0\\nsamples = 2\\nvalue = [0, 2]'),\n",
       " Text(268.1877746703955, 88.01142857142858, 'gini = 0.0\\nsamples = 15\\nvalue = [15, 0]'),\n",
       " Text(271.39800239712343, 98.36571428571429, 'X[5] <= 578.5\\ngini = 0.5\\nsamples = 2\\nvalue = [1, 1]'),\n",
       " Text(270.32792648821413, 88.01142857142858, 'gini = 0.0\\nsamples = 1\\nvalue = [0, 1]'),\n",
       " Text(272.46807830603274, 88.01142857142858, 'gini = 0.0\\nsamples = 1\\nvalue = [1, 0]'),\n",
       " Text(271.39800239712343, 108.72, 'gini = 0.0\\nsamples = 1\\nvalue = [0, 1]'),\n",
       " Text(272.46807830603274, 119.07428571428571, 'gini = 0.0\\nsamples = 1\\nvalue = [0, 1]'),\n",
       " Text(273.53815421494204, 129.42857142857144, 'gini = 0.0\\nsamples = 22\\nvalue = [22, 0]'),\n",
       " Text(274.6082301238514, 139.78285714285715, 'gini = 0.0\\nsamples = 1\\nvalue = [0, 1]'),\n",
       " Text(277.8184578505793, 150.13714285714286, 'X[5] <= 728.0\\ngini = 0.496\\nsamples = 11\\nvalue = [6, 5]'),\n",
       " Text(276.74838194167, 139.78285714285715, 'X[3] <= 1.5\\ngini = 0.444\\nsamples = 9\\nvalue = [6, 3]'),\n",
       " Text(275.6783060327607, 129.42857142857144, 'X[11] <= 694.5\\ngini = 0.48\\nsamples = 5\\nvalue = [2, 3]'),\n",
       " Text(274.6082301238514, 119.07428571428571, 'X[5] <= 385.5\\ngini = 0.444\\nsamples = 3\\nvalue = [2, 1]'),\n",
       " Text(273.53815421494204, 108.72, 'gini = 0.0\\nsamples = 2\\nvalue = [2, 0]'),\n",
       " Text(275.6783060327607, 108.72, 'gini = 0.0\\nsamples = 1\\nvalue = [0, 1]'),\n",
       " Text(276.74838194167, 119.07428571428571, 'gini = 0.0\\nsamples = 2\\nvalue = [0, 2]'),\n",
       " Text(277.8184578505793, 129.42857142857144, 'gini = 0.0\\nsamples = 4\\nvalue = [4, 0]'),\n",
       " Text(278.8885337594886, 139.78285714285715, 'gini = 0.0\\nsamples = 2\\nvalue = [0, 2]'),\n",
       " Text(286.3790651218538, 170.84571428571428, 'X[10] <= 7.5\\ngini = 0.499\\nsamples = 38\\nvalue = [18, 20]'),\n",
       " Text(282.0987614862165, 160.49142857142857, 'X[11] <= 645.5\\ngini = 0.423\\nsamples = 23\\nvalue = [7, 16]'),\n",
       " Text(281.0286855773072, 150.13714285714286, 'gini = 0.0\\nsamples = 3\\nvalue = [3, 0]'),\n",
       " Text(283.1688373951258, 150.13714285714286, 'X[5] <= 1813.0\\ngini = 0.32\\nsamples = 20\\nvalue = [4, 16]'),\n",
       " Text(281.0286855773072, 139.78285714285715, 'X[5] <= 1641.5\\ngini = 0.5\\nsamples = 6\\nvalue = [3, 3]'),\n",
       " Text(279.9586096683979, 129.42857142857144, 'X[15] <= 2.0\\ngini = 0.375\\nsamples = 4\\nvalue = [1, 3]'),\n",
       " Text(278.8885337594886, 119.07428571428571, 'gini = 0.0\\nsamples = 1\\nvalue = [1, 0]'),\n",
       " Text(281.0286855773072, 119.07428571428571, 'gini = 0.0\\nsamples = 3\\nvalue = [0, 3]'),\n",
       " Text(282.0987614862165, 129.42857142857144, 'gini = 0.0\\nsamples = 2\\nvalue = [2, 0]'),\n",
       " Text(285.3089892129445, 139.78285714285715, 'X[11] <= 734.0\\ngini = 0.133\\nsamples = 14\\nvalue = [1, 13]'),\n",
       " Text(284.2389133040352, 129.42857142857144, 'gini = 0.0\\nsamples = 11\\nvalue = [0, 11]'),\n",
       " Text(286.3790651218538, 129.42857142857144, 'X[11] <= 742.5\\ngini = 0.444\\nsamples = 3\\nvalue = [1, 2]'),\n",
       " Text(285.3089892129445, 119.07428571428571, 'gini = 0.0\\nsamples = 1\\nvalue = [1, 0]'),\n",
       " Text(287.4491410307631, 119.07428571428571, 'gini = 0.0\\nsamples = 2\\nvalue = [0, 2]'),\n",
       " Text(290.659368757491, 160.49142857142857, 'X[9] <= 13.0\\ngini = 0.391\\nsamples = 15\\nvalue = [11, 4]'),\n",
       " Text(288.5192169396724, 150.13714285714286, 'X[5] <= 5854.5\\ngini = 0.48\\nsamples = 5\\nvalue = [2, 3]'),\n",
       " Text(287.4491410307631, 139.78285714285715, 'gini = 0.0\\nsamples = 3\\nvalue = [0, 3]'),\n",
       " Text(289.5892928485817, 139.78285714285715, 'gini = 0.0\\nsamples = 2\\nvalue = [2, 0]'),\n",
       " Text(292.7995205753096, 150.13714285714286, 'X[12] <= 3.5\\ngini = 0.18\\nsamples = 10\\nvalue = [9, 1]'),\n",
       " Text(291.7294446664003, 139.78285714285715, 'gini = 0.0\\nsamples = 7\\nvalue = [7, 0]'),\n",
       " Text(293.86959648421896, 139.78285714285715, 'X[11] <= 691.0\\ngini = 0.444\\nsamples = 3\\nvalue = [2, 1]'),\n",
       " Text(292.7995205753096, 129.42857142857144, 'gini = 0.0\\nsamples = 1\\nvalue = [0, 1]'),\n",
       " Text(294.93967239312826, 129.42857142857144, 'gini = 0.0\\nsamples = 2\\nvalue = [2, 0]'),\n",
       " Text(280.49364762285256, 181.2, 'gini = 0.0\\nsamples = 5\\nvalue = [0, 5]'),\n",
       " Text(322.09284858170196, 191.5542857142857, 'X[13] <= 354.5\\ngini = 0.496\\nsamples = 176\\nvalue = [80, 96]'),\n",
       " Text(321.02277267279266, 181.2, 'X[3] <= 2.5\\ngini = 0.492\\nsamples = 171\\nvalue = [75, 96]'),\n",
       " Text(313.66600079904117, 170.84571428571428, 'X[0] <= 39.5\\ngini = 0.5\\nsamples = 127\\nvalue = [62, 65]'),\n",
       " Text(306.4429884139033, 160.49142857142857, 'X[11] <= 1146.0\\ngini = 0.473\\nsamples = 60\\nvalue = [37, 23]'),\n",
       " Text(300.8250898921294, 150.13714285714286, 'X[3] <= 1.5\\ngini = 0.408\\nsamples = 42\\nvalue = [30, 12]'),\n",
       " Text(298.14990011985617, 139.78285714285715, 'X[10] <= 6.5\\ngini = 0.48\\nsamples = 5\\nvalue = [2, 3]'),\n",
       " Text(297.07982421094687, 129.42857142857144, 'gini = 0.0\\nsamples = 3\\nvalue = [0, 3]'),\n",
       " Text(299.2199760287655, 129.42857142857144, 'gini = 0.0\\nsamples = 2\\nvalue = [2, 0]'),\n",
       " Text(303.50027966440274, 139.78285714285715, 'X[10] <= 6.5\\ngini = 0.368\\nsamples = 37\\nvalue = [28, 9]'),\n",
       " Text(301.3601278465841, 129.42857142857144, 'X[11] <= 770.0\\ngini = 0.26\\nsamples = 26\\nvalue = [22, 4]'),\n",
       " Text(300.2900519376748, 119.07428571428571, 'gini = 0.0\\nsamples = 1\\nvalue = [0, 1]'),\n",
       " Text(302.4302037554934, 119.07428571428571, 'X[9] <= 13.5\\ngini = 0.211\\nsamples = 25\\nvalue = [22, 3]'),\n",
       " Text(301.3601278465841, 108.72, 'X[6] <= 0.5\\ngini = 0.375\\nsamples = 12\\nvalue = [9, 3]'),\n",
       " Text(300.2900519376748, 98.36571428571429, 'gini = 0.0\\nsamples = 1\\nvalue = [0, 1]'),\n",
       " Text(302.4302037554934, 98.36571428571429, 'X[5] <= 51.5\\ngini = 0.298\\nsamples = 11\\nvalue = [9, 2]'),\n",
       " Text(301.3601278465841, 88.01142857142858, 'gini = 0.0\\nsamples = 1\\nvalue = [0, 1]'),\n",
       " Text(303.50027966440274, 88.01142857142858, 'X[0] <= 37.0\\ngini = 0.18\\nsamples = 10\\nvalue = [9, 1]'),\n",
       " Text(302.4302037554934, 77.65714285714284, 'gini = 0.0\\nsamples = 8\\nvalue = [8, 0]'),\n",
       " Text(304.57035557331204, 77.65714285714284, 'X[11] <= 983.5\\ngini = 0.5\\nsamples = 2\\nvalue = [1, 1]'),\n",
       " Text(303.50027966440274, 67.30285714285714, 'gini = 0.0\\nsamples = 1\\nvalue = [0, 1]'),\n",
       " Text(305.64043148222135, 67.30285714285714, 'gini = 0.0\\nsamples = 1\\nvalue = [1, 0]'),\n",
       " Text(303.50027966440274, 108.72, 'gini = 0.0\\nsamples = 13\\nvalue = [13, 0]'),\n",
       " Text(305.64043148222135, 129.42857142857144, 'X[5] <= 106.0\\ngini = 0.496\\nsamples = 11\\nvalue = [6, 5]'),\n",
       " Text(304.57035557331204, 119.07428571428571, 'gini = 0.0\\nsamples = 3\\nvalue = [3, 0]'),\n",
       " Text(306.71050739113065, 119.07428571428571, 'X[9] <= 18.5\\ngini = 0.469\\nsamples = 8\\nvalue = [3, 5]'),\n",
       " Text(305.64043148222135, 108.72, 'gini = 0.0\\nsamples = 4\\nvalue = [0, 4]'),\n",
       " Text(307.78058330003995, 108.72, 'X[0] <= 29.0\\ngini = 0.375\\nsamples = 4\\nvalue = [3, 1]'),\n",
       " Text(306.71050739113065, 98.36571428571429, 'gini = 0.0\\nsamples = 1\\nvalue = [0, 1]'),\n",
       " Text(308.85065920894925, 98.36571428571429, 'gini = 0.0\\nsamples = 3\\nvalue = [3, 0]'),\n",
       " Text(312.06088693567716, 150.13714285714286, 'X[12] <= 2.5\\ngini = 0.475\\nsamples = 18\\nvalue = [7, 11]'),\n",
       " Text(310.99081102676786, 139.78285714285715, 'X[10] <= 3.5\\ngini = 0.463\\nsamples = 11\\nvalue = [7, 4]'),\n",
       " Text(309.92073511785856, 129.42857142857144, 'gini = 0.0\\nsamples = 2\\nvalue = [0, 2]'),\n",
       " Text(312.06088693567716, 129.42857142857144, 'X[5] <= 345.5\\ngini = 0.346\\nsamples = 9\\nvalue = [7, 2]'),\n",
       " Text(310.99081102676786, 119.07428571428571, 'X[11] <= 1573.5\\ngini = 0.444\\nsamples = 3\\nvalue = [1, 2]'),\n",
       " Text(309.92073511785856, 108.72, 'gini = 0.0\\nsamples = 2\\nvalue = [0, 2]'),\n",
       " Text(312.06088693567716, 108.72, 'gini = 0.0\\nsamples = 1\\nvalue = [1, 0]'),\n",
       " Text(313.1309628445865, 119.07428571428571, 'gini = 0.0\\nsamples = 6\\nvalue = [6, 0]'),\n",
       " Text(313.1309628445865, 139.78285714285715, 'gini = 0.0\\nsamples = 7\\nvalue = [0, 7]'),\n",
       " Text(320.88901318417896, 160.49142857142857, 'X[1] <= 0.5\\ngini = 0.468\\nsamples = 67\\nvalue = [25, 42]'),\n",
       " Text(319.81893727526966, 150.13714285714286, 'gini = 0.0\\nsamples = 3\\nvalue = [3, 0]'),\n",
       " Text(321.95908909308827, 150.13714285714286, 'X[11] <= 1247.0\\ngini = 0.451\\nsamples = 64\\nvalue = [22, 42]'),\n",
       " Text(320.88901318417896, 139.78285714285715, 'X[11] <= 1212.0\\ngini = 0.483\\nsamples = 54\\nvalue = [22, 32]'),\n",
       " Text(319.81893727526966, 129.42857142857144, 'X[13] <= 90.5\\ngini = 0.468\\nsamples = 51\\nvalue = [19, 32]'),\n",
       " Text(316.8762285257691, 119.07428571428571, 'X[9] <= 7.5\\ngini = 0.434\\nsamples = 44\\nvalue = [14, 30]'),\n",
       " Text(314.2010387534958, 108.72, 'X[9] <= 5.5\\ngini = 0.469\\nsamples = 8\\nvalue = [5, 3]'),\n",
       " Text(313.1309628445865, 98.36571428571429, 'X[11] <= 1037.0\\ngini = 0.375\\nsamples = 4\\nvalue = [1, 3]'),\n",
       " Text(312.06088693567716, 88.01142857142858, 'gini = 0.0\\nsamples = 3\\nvalue = [0, 3]'),\n",
       " Text(314.2010387534958, 88.01142857142858, 'gini = 0.0\\nsamples = 1\\nvalue = [1, 0]'),\n",
       " Text(315.2711146624051, 98.36571428571429, 'gini = 0.0\\nsamples = 4\\nvalue = [4, 0]'),\n",
       " Text(319.55141829804234, 108.72, 'X[11] <= 923.0\\ngini = 0.375\\nsamples = 36\\nvalue = [9, 27]'),\n",
       " Text(317.41126648022373, 98.36571428571429, 'X[3] <= 1.5\\ngini = 0.484\\nsamples = 17\\nvalue = [7, 10]'),\n",
       " Text(316.3411905713144, 88.01142857142858, 'gini = 0.0\\nsamples = 3\\nvalue = [3, 0]'),\n",
       " Text(318.48134238913303, 88.01142857142858, 'X[7] <= 0.5\\ngini = 0.408\\nsamples = 14\\nvalue = [4, 10]'),\n",
       " Text(317.41126648022373, 77.65714285714284, 'X[11] <= 771.0\\ngini = 0.355\\nsamples = 13\\nvalue = [3, 10]'),\n",
       " Text(316.3411905713144, 67.30285714285714, 'gini = 0.0\\nsamples = 1\\nvalue = [1, 0]'),\n",
       " Text(318.48134238913303, 67.30285714285714, 'X[11] <= 906.0\\ngini = 0.278\\nsamples = 12\\nvalue = [2, 10]'),\n",
       " Text(317.41126648022373, 56.94857142857143, 'X[9] <= 29.0\\ngini = 0.165\\nsamples = 11\\nvalue = [1, 10]'),\n",
       " Text(316.3411905713144, 46.59428571428572, 'gini = 0.0\\nsamples = 8\\nvalue = [0, 8]'),\n",
       " Text(318.48134238913303, 46.59428571428572, 'X[5] <= 810.0\\ngini = 0.444\\nsamples = 3\\nvalue = [1, 2]'),\n",
       " Text(317.41126648022373, 36.24000000000001, 'gini = 0.0\\nsamples = 1\\nvalue = [0, 1]'),\n",
       " Text(319.55141829804234, 36.24000000000001, 'X[13] <= 43.0\\ngini = 0.5\\nsamples = 2\\nvalue = [1, 1]'),\n",
       " Text(318.48134238913303, 25.8857142857143, 'gini = 0.0\\nsamples = 1\\nvalue = [1, 0]'),\n",
       " Text(320.62149420695164, 25.8857142857143, 'gini = 0.0\\nsamples = 1\\nvalue = [0, 1]'),\n",
       " Text(319.55141829804234, 56.94857142857143, 'gini = 0.0\\nsamples = 1\\nvalue = [1, 0]'),\n",
       " Text(319.55141829804234, 77.65714285714284, 'gini = 0.0\\nsamples = 1\\nvalue = [1, 0]'),\n",
       " Text(321.69157011586094, 98.36571428571429, 'X[11] <= 1133.0\\ngini = 0.188\\nsamples = 19\\nvalue = [2, 17]'),\n",
       " Text(320.62149420695164, 88.01142857142858, 'gini = 0.0\\nsamples = 15\\nvalue = [0, 15]'),\n",
       " Text(322.76164602477024, 88.01142857142858, 'X[3] <= 1.5\\ngini = 0.5\\nsamples = 4\\nvalue = [2, 2]'),\n",
       " Text(321.69157011586094, 77.65714285714284, 'gini = 0.0\\nsamples = 1\\nvalue = [1, 0]'),\n",
       " Text(323.8317219336796, 77.65714285714284, 'X[7] <= 0.5\\ngini = 0.444\\nsamples = 3\\nvalue = [1, 2]'),\n",
       " Text(322.76164602477024, 67.30285714285714, 'gini = 0.0\\nsamples = 2\\nvalue = [0, 2]'),\n",
       " Text(324.9017978425889, 67.30285714285714, 'gini = 0.0\\nsamples = 1\\nvalue = [1, 0]'),\n",
       " Text(322.76164602477024, 119.07428571428571, 'X[0] <= 50.0\\ngini = 0.408\\nsamples = 7\\nvalue = [5, 2]'),\n",
       " Text(321.69157011586094, 108.72, 'gini = 0.0\\nsamples = 2\\nvalue = [0, 2]'),\n",
       " Text(323.8317219336796, 108.72, 'gini = 0.0\\nsamples = 5\\nvalue = [5, 0]'),\n",
       " Text(321.95908909308827, 129.42857142857144, 'gini = 0.0\\nsamples = 3\\nvalue = [3, 0]'),\n",
       " Text(323.0291650019976, 139.78285714285715, 'gini = 0.0\\nsamples = 10\\nvalue = [0, 10]'),\n",
       " Text(328.37954454654414, 170.84571428571428, 'X[0] <= 33.5\\ngini = 0.416\\nsamples = 44\\nvalue = [13, 31]'),\n",
       " Text(327.30946863763484, 160.49142857142857, 'gini = 0.0\\nsamples = 11\\nvalue = [0, 11]'),\n",
       " Text(329.44962045545344, 160.49142857142857, 'X[6] <= 0.5\\ngini = 0.478\\nsamples = 33\\nvalue = [13, 20]'),\n",
       " Text(326.23939272872553, 150.13714285714286, 'X[0] <= 55.0\\ngini = 0.245\\nsamples = 14\\nvalue = [2, 12]'),\n",
       " Text(325.16931681981623, 139.78285714285715, 'gini = 0.0\\nsamples = 11\\nvalue = [0, 11]'),\n",
       " Text(327.30946863763484, 139.78285714285715, 'X[5] <= 130.5\\ngini = 0.444\\nsamples = 3\\nvalue = [2, 1]'),\n",
       " Text(326.23939272872553, 129.42857142857144, 'gini = 0.0\\nsamples = 1\\nvalue = [0, 1]'),\n",
       " Text(328.37954454654414, 129.42857142857144, 'gini = 0.0\\nsamples = 2\\nvalue = [2, 0]'),\n",
       " Text(332.6598481821814, 150.13714285714286, 'X[14] <= 1.5\\ngini = 0.488\\nsamples = 19\\nvalue = [11, 8]'),\n",
       " Text(331.58977227327205, 139.78285714285715, 'X[9] <= 8.5\\ngini = 0.391\\nsamples = 15\\nvalue = [11, 4]'),\n",
       " Text(330.51969636436274, 129.42857142857144, 'gini = 0.0\\nsamples = 2\\nvalue = [0, 2]'),\n",
       " Text(332.6598481821814, 129.42857142857144, 'X[11] <= 833.0\\ngini = 0.26\\nsamples = 13\\nvalue = [11, 2]'),\n",
       " Text(331.58977227327205, 119.07428571428571, 'X[9] <= 17.5\\ngini = 0.5\\nsamples = 4\\nvalue = [2, 2]'),\n",
       " Text(330.51969636436274, 108.72, 'gini = 0.0\\nsamples = 2\\nvalue = [2, 0]'),\n",
       " Text(332.6598481821814, 108.72, 'gini = 0.0\\nsamples = 2\\nvalue = [0, 2]'),\n",
       " Text(333.7299240910907, 119.07428571428571, 'gini = 0.0\\nsamples = 9\\nvalue = [9, 0]'),\n",
       " Text(333.7299240910907, 139.78285714285715, 'gini = 0.0\\nsamples = 4\\nvalue = [0, 4]'),\n",
       " Text(323.16292449061126, 181.2, 'gini = 0.0\\nsamples = 5\\nvalue = [5, 0]')]"
      ]
     },
     "execution_count": 53,
     "metadata": {},
     "output_type": "execute_result"
    },
    {
     "data": {
      "image/png": "[encoded data removed]",
      "text/plain": [
       "<Figure size 432x288 with 1 Axes>"
      ]
     },
     "metadata": {
      "needs_background": "light"
     },
     "output_type": "display_data"
    }
   ],
   "source": [
    "tree.plot_tree(clf) "
   ]
  },
  {
   "cell_type": "markdown",
   "metadata": {},
   "source": [
    "# "
   ]
  }
 ],
 "metadata": {
  "kernelspec": {
   "display_name": "Python 3",
   "language": "python",
   "name": "python3"
  },
  "language_info": {
   "codemirror_mode": {
    "name": "ipython",
    "version": 3
   },
   "file_extension": ".py",
   "mimetype": "text/x-python",
   "name": "python",
   "nbconvert_exporter": "python",
   "pygments_lexer": "ipython3",
   "version": "3.8.3"
  }
 },
 "nbformat": 4,
 "nbformat_minor": 4
}
